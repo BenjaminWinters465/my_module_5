{
 "cells": [
  {
   "cell_type": "markdown",
   "metadata": {},
   "source": [
    "# Case Study - The Current - Part 2\n",
    "\n",
    "* The Current is an alternative radio station\n",
    "* We will pull information about the play list."
   ]
  },
  {
   "cell_type": "markdown",
   "metadata": {},
   "source": [
    "# Step 0 - Insert current progress\n",
    "\n",
    "Copy over all the relevant code from part 1 of the lab.\n",
    "\n",
    "http://www.thecurrent.org/playlist/2020-10-14/01"
   ]
  },
  {
   "cell_type": "code",
   "execution_count": 2,
   "metadata": {
    "scrolled": true
   },
   "outputs": [],
   "source": [
    "from composablesoup import find, find_all, get_text, has_attr\n",
    "from composable.sequence import slice, head\n",
    "from composable.strict import map, filter\n",
    "from composable.string import replace\n",
    "from composable import from_toolz as tlz\n",
    "import requests\n",
    "from bs4 import BeautifulSoup\n",
    "from composable.string import split\n",
    "from composable import pipeable\n",
    "from composablesoup.soup import find_parent, parents, children, find_previous_sibling, find_previous_siblings\n",
    "from composablesoup.soup import find_next_sibling, find_next_siblings, find_previous_sibling"
   ]
  },
  {
   "cell_type": "code",
   "execution_count": 2,
   "metadata": {
    "scrolled": false
   },
   "outputs": [],
   "source": [
    "s = requests.Session() # Start a session\n",
    "r = s.get('https://www.thecurrent.org/playlist/2020-10-14/01') # Get a static page\n",
    "the_current_radio = BeautifulSoup(r.content, \"html.parser\")"
   ]
  },
  {
   "cell_type": "markdown",
   "metadata": {},
   "source": [
    "# Pull off the song start time\n",
    "\n",
    "1. Inspect the element\n",
    "    1. This one is tricky\n",
    "    2. Time tag does not have a tag, but\n",
    "    3. The surrounding div does have a class\n",
    "2. Identify the html tag and class\n",
    "3. Use `find_all` to make a list of all relevant tags\n",
    "4. Pull off an example case\n",
    "5. Write a function that extracts the start time.\n",
    "6. Write a single pipe to extract the start time.\n",
    "7. Confirm you have the right number of times.\n",
    "8. Package your code in a function called `get_start_time`"
   ]
  },
  {
   "cell_type": "code",
   "execution_count": 3,
   "metadata": {
    "scrolled": true
   },
   "outputs": [
    {
     "data": {
      "text/plain": [
       "'1:57'"
      ]
     },
     "execution_count": 3,
     "metadata": {},
     "output_type": "execute_result"
    }
   ],
   "source": [
    "import re\n",
    "time = re.compile('#song\\d+')\n",
    "(the_current_radio\n",
    " >> find('a', attrs = {'href':time})\n",
    " >> children\n",
    " >> tlz.get(1)\n",
    " >> get_text\n",
    " >> split(' ')\n",
    " >> tlz.get(2)\n",
    ")"
   ]
  },
  {
   "cell_type": "code",
   "execution_count": 4,
   "metadata": {
    "scrolled": false
   },
   "outputs": [
    {
     "data": {
      "text/plain": [
       "['1:57',\n",
       " '1:53',\n",
       " '1:50',\n",
       " '1:47',\n",
       " '1:45',\n",
       " '1:41',\n",
       " '1:37',\n",
       " '1:33',\n",
       " '1:28',\n",
       " '1:24',\n",
       " '1:21',\n",
       " '1:16',\n",
       " '1:13',\n",
       " '1:09',\n",
       " '1:05',\n",
       " '1:01']"
      ]
     },
     "execution_count": 4,
     "metadata": {},
     "output_type": "execute_result"
    }
   ],
   "source": [
    "(the_current_radio\n",
    " >> find_all('a', attrs = {'href':time})\n",
    " >> map(children)\n",
    " >> map(tlz.get(1))\n",
    " >> map(get_text)\n",
    " >> map(split(' '))\n",
    " >> map(tlz.get(2))\n",
    ")"
   ]
  },
  {
   "cell_type": "code",
   "execution_count": 5,
   "metadata": {
    "scrolled": true
   },
   "outputs": [],
   "source": [
    "get_start_time = pipeable(lambda soup: soup\n",
    "                          >> find_all('a', attrs = {'href':time})\n",
    "                          >> map(children)\n",
    "                          >> map(tlz.get(1))\n",
    "                          >> map(get_text)\n",
    "                          >> map(split(' '))\n",
    "                          >> map(tlz.get(2))\n",
    "                         )"
   ]
  },
  {
   "cell_type": "code",
   "execution_count": 18,
   "metadata": {
    "scrolled": true
   },
   "outputs": [
    {
     "data": {
      "text/plain": [
       "['1:57',\n",
       " '1:53',\n",
       " '1:50',\n",
       " '1:47',\n",
       " '1:45',\n",
       " '1:41',\n",
       " '1:37',\n",
       " '1:33',\n",
       " '1:28',\n",
       " '1:24',\n",
       " '1:21',\n",
       " '1:16',\n",
       " '1:13',\n",
       " '1:09',\n",
       " '1:05',\n",
       " '1:01']"
      ]
     },
     "execution_count": 18,
     "metadata": {},
     "output_type": "execute_result"
    }
   ],
   "source": [
    "the_current_radio >> get_start_time"
   ]
  },
  {
   "cell_type": "markdown",
   "metadata": {},
   "source": [
    "# Pull address of the album art image address\n",
    "\n",
    "Follow a similar process to pull off the web address of the album cover image. \n"
   ]
  },
  {
   "cell_type": "code",
   "execution_count": 7,
   "metadata": {},
   "outputs": [],
   "source": [
    "get_src = pipeable(lambda src: src >> tlz.get('data-src') \n",
    "                               if (src >> tlz.get('src')) == '' \n",
    "                               else src >> tlz.get('src'))"
   ]
  },
  {
   "cell_type": "code",
   "execution_count": 8,
   "metadata": {
    "scrolled": true
   },
   "outputs": [
    {
     "data": {
      "text/plain": [
       "'https://albumart.publicradio.org/mb/1e/1ea97022-27ba-4bf5-8ab5-4ae76836e1c1_03df.jpg'"
      ]
     },
     "execution_count": 8,
     "metadata": {},
     "output_type": "execute_result"
    }
   ],
   "source": [
    "(the_current_radio\n",
    " >> find('img', attrs = {'class':'album-art'})\n",
    " >> get_src\n",
    ")"
   ]
  },
  {
   "cell_type": "code",
   "execution_count": 10,
   "metadata": {
    "scrolled": false
   },
   "outputs": [],
   "source": [
    "get_album_art = pipeable(lambda soup: soup\n",
    "                          >> find_all('img', attrs = {'class':'album-art'})\n",
    "                          >> map(get_src)\n",
    "                         )"
   ]
  },
  {
   "cell_type": "code",
   "execution_count": 17,
   "metadata": {},
   "outputs": [
    {
     "data": {
      "text/plain": [
       "['https://albumart.publicradio.org/mb/1e/1ea97022-27ba-4bf5-8ab5-4ae76836e1c1_03df.jpg',\n",
       " 'https://albumart.publicradio.org/mb/12/120c786d-a3b2-3c19-b4ff-2b7b3b4435bf_6f33.jpg',\n",
       " '/assets/album-cover-default-32217dc68a771f3a44aa2b7a640cf91133b61bd1f2ae68c9ddb00055e9a8ac1d.png',\n",
       " '/assets/album-cover-default-32217dc68a771f3a44aa2b7a640cf91133b61bd1f2ae68c9ddb00055e9a8ac1d.png',\n",
       " 'https://albumart.publicradio.org/mb/bc/bc3b5116-300a-3696-919d-bca466a3f143_e813.jpg',\n",
       " 'https://albumart.publicradio.org/mb/fe/feeac938-9cb1-4e36-9b98-4ec2ad9a65c3_1a08.jpg',\n",
       " 'https://albumart.publicradio.org/mb/16/1608212a-558a-4d20-bc01-3fc8b82e6058_6f10.jpg',\n",
       " '/assets/album-cover-default-32217dc68a771f3a44aa2b7a640cf91133b61bd1f2ae68c9ddb00055e9a8ac1d.png',\n",
       " '/assets/album-cover-default-32217dc68a771f3a44aa2b7a640cf91133b61bd1f2ae68c9ddb00055e9a8ac1d.png',\n",
       " '/assets/album-cover-default-32217dc68a771f3a44aa2b7a640cf91133b61bd1f2ae68c9ddb00055e9a8ac1d.png',\n",
       " 'https://albumart.publicradio.org/mb/9c/9c8f9285-5f2a-40b3-b2e1-e64905d1e562_b977.jpg',\n",
       " 'https://albumart.publicradio.org/mb/35/35bacad8-4327-33f2-9e7a-3a69721ca707_3453.jpg',\n",
       " '/assets/album-cover-default-32217dc68a771f3a44aa2b7a640cf91133b61bd1f2ae68c9ddb00055e9a8ac1d.png',\n",
       " 'https://albumart.publicradio.org/mb/61/616a1d80-83d0-3234-bf71-fe3de8109f99_1115.jpg',\n",
       " 'https://albumart.publicradio.org/mb/c7/c7d38d5f-b4a6-41d1-9805-f119a9c8d68d_2897.jpg',\n",
       " '/assets/album-cover-default-32217dc68a771f3a44aa2b7a640cf91133b61bd1f2ae68c9ddb00055e9a8ac1d.png']"
      ]
     },
     "execution_count": 17,
     "metadata": {},
     "output_type": "execute_result"
    }
   ],
   "source": [
    "the_current_radio >> get_album_art"
   ]
  },
  {
   "cell_type": "markdown",
   "metadata": {},
   "source": [
    "# Putting it all together\n",
    "\n",
    "* Make a function for each of the previous steps\n",
    "* Make an overall function\n",
    "    * input is a soup\n",
    "    * output is a list of lists\n",
    "\n",
    "**Hint:** You should use `zip` to put all the information together."
   ]
  },
  {
   "cell_type": "markdown",
   "metadata": {},
   "source": [
    "# Final product is in lab 5_1_1"
   ]
  }
 ],
 "metadata": {
  "anaconda-cloud": {},
  "kernelspec": {
   "display_name": "Python 3",
   "language": "python",
   "name": "python3"
  },
  "language_info": {
   "codemirror_mode": {
    "name": "ipython",
    "version": 3
   },
   "file_extension": ".py",
   "mimetype": "text/x-python",
   "name": "python",
   "nbconvert_exporter": "python",
   "pygments_lexer": "ipython3",
   "version": "3.7.6"
  }
 },
 "nbformat": 4,
 "nbformat_minor": 1
}
