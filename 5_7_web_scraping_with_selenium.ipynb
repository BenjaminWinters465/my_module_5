{
  "nbformat": 4,
  "nbformat_minor": 0,
  "metadata": {
    "kernelspec": {
      "display_name": "Python 3",
      "language": "python",
      "name": "python3"
    },
    "language_info": {
      "codemirror_mode": {
        "name": "ipython",
        "version": 3
      },
      "file_extension": ".py",
      "mimetype": "text/x-python",
      "name": "python",
      "nbconvert_exporter": "python",
      "pygments_lexer": "ipython3",
      "version": "3.7.2"
    },
    "colab": {
      "name": "5_7_web_scraping_with_selenium.ipynb",
      "provenance": [],
      "include_colab_link": true
    }
  },
  "cells": [
    {
      "cell_type": "markdown",
      "metadata": {
        "id": "view-in-github",
        "colab_type": "text"
      },
      "source": [
        "<a href=\"https://colab.research.google.com/github/BenjaminWinters465/my_module_5/blob/main/5_7_web_scraping_with_selenium.ipynb\" target=\"_parent\"><img src=\"https://colab.research.google.com/assets/colab-badge.svg\" alt=\"Open In Colab\"/></a>"
      ]
    },
    {
      "cell_type": "markdown",
      "metadata": {
        "id": "MUX0XHrkHa8n"
      },
      "source": [
        "# Lecture 5.7 - Web Scraping with Selenium"
      ]
    },
    {
      "cell_type": "code",
      "metadata": {
        "id": "92NMsYidHa8p"
      },
      "source": [
        "import requests\n",
        "from bs4 import BeautifulSoup\n",
        "\n",
        "s = requests.Session()\n",
        "r = s.get('https://wsu-datascience.github.io/binomial_simulation/index.html')\n",
        "binom_sim = BeautifulSoup(r.content, 'html.parser')"
      ],
      "execution_count": 1,
      "outputs": []
    },
    {
      "cell_type": "code",
      "metadata": {
        "id": "VwD93ZtRHa86",
        "outputId": "51d9909c-b05d-4841-95a5-c9da4fc3fdd2",
        "colab": {
          "base_uri": "https://localhost:8080/"
        }
      },
      "source": [
        "binom_sim"
      ],
      "execution_count": 3,
      "outputs": [
        {
          "output_type": "execute_result",
          "data": {
            "text/plain": [
              "<!DOCTYPE html>\n",
              "\n",
              "<html lang=\"en\">\n",
              "<head>\n",
              "<title>Binomial Simulation</title>\n",
              "</head>\n",
              "<link crossorigin=\"anonymous\" href=\"https://cdnjs.cloudflare.com/ajax/libs/KaTeX/0.7.1/katex.min.css\" integrity=\"sha384-wITovz90syo1dJWVh32uuETPVEtGigN07tkttEqPv+uR2SE/mbQcG7ATL28aI9H0\" rel=\"stylesheet\"/>\n",
              "<style>\n",
              "    /* LaTeX display environment will effect the LaTeX characters but not the layout on the page */\n",
              "    span.katex-display {\n",
              "      display: inherit; /* You may comment this out if you want the default behavior */\n",
              "    }\n",
              "  </style>\n",
              "<script crossorigin=\"anonymous\" integrity=\"sha384-/y1Nn9+QQAipbNQWU65krzJralCnuOasHncUFXGkdwntGeSvQicrYkiUBwsgUqc1\" src=\"https://cdnjs.cloudflare.com/ajax/libs/KaTeX/0.7.1/katex.min.js\"></script>\n",
              "<script crossorigin=\"anonymous\" integrity=\"sha384-dq1/gEHSxPZQ7DdrM82ID4YVol9BYyU7GbWlIwnwyPzotpoc57wDw/guX8EaYGPx\" src=\"https://cdnjs.cloudflare.com/ajax/libs/KaTeX/0.7.1/contrib/auto-render.min.js\"></script>\n",
              "<!-- These scripts link to the Vega-Lite runtime -->\n",
              "<script src=\"https://cdn.jsdelivr.net/npm/vega@3\"></script>\n",
              "<script src=\"https://cdn.jsdelivr.net/npm/vega-lite@2\"></script>\n",
              "<script src=\"https://cdn.jsdelivr.net/npm/vega-embed@3\"></script>\n",
              "<script src=\"main.js\"></script>\n",
              "</html>\n",
              "<body>\n",
              "<div id=\"elm\"></div>\n",
              "<script>\n",
              "    var app = Elm.Main.init({\n",
              "       node: document.getElementById('elm')\n",
              "    }); setTimeout(function () {\n",
              "      renderMathInElement(document.body, {delimiters: [{left: \"$begin-inline$\", right: \"$end-inline$\", display: false},{left: \"$begin-display$\", right: \"$end-display$\", display: true}]});\n",
              "    }, 0);\n",
              "\n",
              "    var requestAnimationFrame = window.requestAnimationFrame || window.mozRequestAnimationFrame || window.webkitRequestAnimationFrame || window.msRequestAnimationFrame;\n",
              "\n",
              "  let updateSamplePlot = function(spec){\n",
              "    console.log(spec);\n",
              "    requestAnimationFrame(function(){\n",
              "      vegaEmbed(\"#samplePlot\", spec, {actions: false}).catch(console.warn);\n",
              "      });\n",
              "   }\n",
              "\n",
              "  let updateDistPlot = function(spec){\n",
              "    console.log(spec);\n",
              "    requestAnimationFrame(function(){\n",
              "      vegaEmbed(\"#distPlot\", spec, {actions: false}).catch(console.warn);\n",
              "      });\n",
              "   }\n",
              "\n",
              "    app.ports.samplePlotToJS.subscribe(updateSamplePlot);\n",
              "    app.ports.distPlotToJS.subscribe(updateDistPlot);\n",
              "</script>\n",
              "</body>\n"
            ]
          },
          "metadata": {
            "tags": []
          },
          "execution_count": 3
        }
      ]
    },
    {
      "cell_type": "markdown",
      "metadata": {
        "id": "tGPWa3t3Ha9F"
      },
      "source": [
        "## <font color=\"red\"> Exercise 1 </font>\n",
        "\n",
        "Load the [binomial simulation app](https://wsu-datascience.github.io/binomial_simulation/index.html) in a browser and inspect some elements.  Verify that our usual technique failed to load the elements you find on the page."
      ]
    },
    {
      "cell_type": "markdown",
      "metadata": {
        "id": "DWp8lJCtHa9H"
      },
      "source": [
        "## Why use `selenium`\n",
        "\n",
        "`selenium` allows us to interact with the web page by\n",
        "\n",
        "1. Clicking on non-HTML elements on the page\n",
        "2. Filling in forms\n",
        "3. Waiting for elements to load\n",
        "4. Taking screen shots of the current state."
      ]
    },
    {
      "cell_type": "markdown",
      "metadata": {
        "id": "MiKjvNd2Ha9J"
      },
      "source": [
        "## Installation -- Installing the browser driver.\n",
        "\n",
        "First, we need to install a special driver that allows Python to interact with your browser.  Here we will be using Google Chrome and the [Chrome Driver](https://chromedriver.chromium.org/getting-started).  Be sure to install this driver (or the [one for your favorite browser](https://selenium-python.readthedocs.io/installation.html#drivers). "
      ]
    },
    {
      "cell_type": "markdown",
      "metadata": {
        "id": "Au-kP-8wHa9K"
      },
      "source": [
        "## Installation -- Installing `selenium`\n",
        "\n",
        "Next we will use `pip` to install the `selenium` package."
      ]
    },
    {
      "cell_type": "code",
      "metadata": {
        "scrolled": true,
        "id": "c7AiDt-nHa9L",
        "outputId": "25a819e9-7f34-4aef-96a3-88678235c5de",
        "colab": {
          "base_uri": "https://localhost:8080/"
        }
      },
      "source": [
        "# For local machine\n",
        "!pip install selenium"
      ],
      "execution_count": 4,
      "outputs": [
        {
          "output_type": "stream",
          "text": [
            "Collecting selenium\n",
            "\u001b[?25l  Downloading https://files.pythonhosted.org/packages/80/d6/4294f0b4bce4de0abf13e17190289f9d0613b0a44e5dd6a7f5ca98459853/selenium-3.141.0-py2.py3-none-any.whl (904kB)\n",
            "\r\u001b[K     |▍                               | 10kB 16.8MB/s eta 0:00:01\r\u001b[K     |▊                               | 20kB 1.7MB/s eta 0:00:01\r\u001b[K     |█                               | 30kB 2.4MB/s eta 0:00:01\r\u001b[K     |█▌                              | 40kB 2.9MB/s eta 0:00:01\r\u001b[K     |█▉                              | 51kB 2.1MB/s eta 0:00:01\r\u001b[K     |██▏                             | 61kB 2.5MB/s eta 0:00:01\r\u001b[K     |██▌                             | 71kB 2.8MB/s eta 0:00:01\r\u001b[K     |███                             | 81kB 3.2MB/s eta 0:00:01\r\u001b[K     |███▎                            | 92kB 3.6MB/s eta 0:00:01\r\u001b[K     |███▋                            | 102kB 2.8MB/s eta 0:00:01\r\u001b[K     |████                            | 112kB 2.8MB/s eta 0:00:01\r\u001b[K     |████▍                           | 122kB 2.8MB/s eta 0:00:01\r\u001b[K     |████▊                           | 133kB 2.8MB/s eta 0:00:01\r\u001b[K     |█████                           | 143kB 2.8MB/s eta 0:00:01\r\u001b[K     |█████▍                          | 153kB 2.8MB/s eta 0:00:01\r\u001b[K     |█████▉                          | 163kB 2.8MB/s eta 0:00:01\r\u001b[K     |██████▏                         | 174kB 2.8MB/s eta 0:00:01\r\u001b[K     |██████▌                         | 184kB 2.8MB/s eta 0:00:01\r\u001b[K     |██████▉                         | 194kB 2.8MB/s eta 0:00:01\r\u001b[K     |███████▎                        | 204kB 2.8MB/s eta 0:00:01\r\u001b[K     |███████▋                        | 215kB 2.8MB/s eta 0:00:01\r\u001b[K     |████████                        | 225kB 2.8MB/s eta 0:00:01\r\u001b[K     |████████▎                       | 235kB 2.8MB/s eta 0:00:01\r\u001b[K     |████████▊                       | 245kB 2.8MB/s eta 0:00:01\r\u001b[K     |█████████                       | 256kB 2.8MB/s eta 0:00:01\r\u001b[K     |█████████▍                      | 266kB 2.8MB/s eta 0:00:01\r\u001b[K     |█████████▉                      | 276kB 2.8MB/s eta 0:00:01\r\u001b[K     |██████████▏                     | 286kB 2.8MB/s eta 0:00:01\r\u001b[K     |██████████▌                     | 296kB 2.8MB/s eta 0:00:01\r\u001b[K     |██████████▉                     | 307kB 2.8MB/s eta 0:00:01\r\u001b[K     |███████████▎                    | 317kB 2.8MB/s eta 0:00:01\r\u001b[K     |███████████▋                    | 327kB 2.8MB/s eta 0:00:01\r\u001b[K     |████████████                    | 337kB 2.8MB/s eta 0:00:01\r\u001b[K     |████████████▎                   | 348kB 2.8MB/s eta 0:00:01\r\u001b[K     |████████████▊                   | 358kB 2.8MB/s eta 0:00:01\r\u001b[K     |█████████████                   | 368kB 2.8MB/s eta 0:00:01\r\u001b[K     |█████████████▍                  | 378kB 2.8MB/s eta 0:00:01\r\u001b[K     |█████████████▊                  | 389kB 2.8MB/s eta 0:00:01\r\u001b[K     |██████████████▏                 | 399kB 2.8MB/s eta 0:00:01\r\u001b[K     |██████████████▌                 | 409kB 2.8MB/s eta 0:00:01\r\u001b[K     |██████████████▉                 | 419kB 2.8MB/s eta 0:00:01\r\u001b[K     |███████████████▏                | 430kB 2.8MB/s eta 0:00:01\r\u001b[K     |███████████████▋                | 440kB 2.8MB/s eta 0:00:01\r\u001b[K     |████████████████                | 450kB 2.8MB/s eta 0:00:01\r\u001b[K     |████████████████▎               | 460kB 2.8MB/s eta 0:00:01\r\u001b[K     |████████████████▋               | 471kB 2.8MB/s eta 0:00:01\r\u001b[K     |█████████████████               | 481kB 2.8MB/s eta 0:00:01\r\u001b[K     |█████████████████▍              | 491kB 2.8MB/s eta 0:00:01\r\u001b[K     |█████████████████▊              | 501kB 2.8MB/s eta 0:00:01\r\u001b[K     |██████████████████▏             | 512kB 2.8MB/s eta 0:00:01\r\u001b[K     |██████████████████▌             | 522kB 2.8MB/s eta 0:00:01\r\u001b[K     |██████████████████▉             | 532kB 2.8MB/s eta 0:00:01\r\u001b[K     |███████████████████▏            | 542kB 2.8MB/s eta 0:00:01\r\u001b[K     |███████████████████▋            | 552kB 2.8MB/s eta 0:00:01\r\u001b[K     |████████████████████            | 563kB 2.8MB/s eta 0:00:01\r\u001b[K     |████████████████████▎           | 573kB 2.8MB/s eta 0:00:01\r\u001b[K     |████████████████████▋           | 583kB 2.8MB/s eta 0:00:01\r\u001b[K     |█████████████████████           | 593kB 2.8MB/s eta 0:00:01\r\u001b[K     |█████████████████████▍          | 604kB 2.8MB/s eta 0:00:01\r\u001b[K     |█████████████████████▊          | 614kB 2.8MB/s eta 0:00:01\r\u001b[K     |██████████████████████          | 624kB 2.8MB/s eta 0:00:01\r\u001b[K     |██████████████████████▌         | 634kB 2.8MB/s eta 0:00:01\r\u001b[K     |██████████████████████▉         | 645kB 2.8MB/s eta 0:00:01\r\u001b[K     |███████████████████████▏        | 655kB 2.8MB/s eta 0:00:01\r\u001b[K     |███████████████████████▌        | 665kB 2.8MB/s eta 0:00:01\r\u001b[K     |████████████████████████        | 675kB 2.8MB/s eta 0:00:01\r\u001b[K     |████████████████████████▎       | 686kB 2.8MB/s eta 0:00:01\r\u001b[K     |████████████████████████▋       | 696kB 2.8MB/s eta 0:00:01\r\u001b[K     |█████████████████████████       | 706kB 2.8MB/s eta 0:00:01\r\u001b[K     |█████████████████████████▍      | 716kB 2.8MB/s eta 0:00:01\r\u001b[K     |█████████████████████████▊      | 727kB 2.8MB/s eta 0:00:01\r\u001b[K     |██████████████████████████      | 737kB 2.8MB/s eta 0:00:01\r\u001b[K     |██████████████████████████▍     | 747kB 2.8MB/s eta 0:00:01\r\u001b[K     |██████████████████████████▉     | 757kB 2.8MB/s eta 0:00:01\r\u001b[K     |███████████████████████████▏    | 768kB 2.8MB/s eta 0:00:01\r\u001b[K     |███████████████████████████▌    | 778kB 2.8MB/s eta 0:00:01\r\u001b[K     |████████████████████████████    | 788kB 2.8MB/s eta 0:00:01\r\u001b[K     |████████████████████████████▎   | 798kB 2.8MB/s eta 0:00:01\r\u001b[K     |████████████████████████████▋   | 808kB 2.8MB/s eta 0:00:01\r\u001b[K     |█████████████████████████████   | 819kB 2.8MB/s eta 0:00:01\r\u001b[K     |█████████████████████████████▍  | 829kB 2.8MB/s eta 0:00:01\r\u001b[K     |█████████████████████████████▊  | 839kB 2.8MB/s eta 0:00:01\r\u001b[K     |██████████████████████████████  | 849kB 2.8MB/s eta 0:00:01\r\u001b[K     |██████████████████████████████▍ | 860kB 2.8MB/s eta 0:00:01\r\u001b[K     |██████████████████████████████▉ | 870kB 2.8MB/s eta 0:00:01\r\u001b[K     |███████████████████████████████▏| 880kB 2.8MB/s eta 0:00:01\r\u001b[K     |███████████████████████████████▌| 890kB 2.8MB/s eta 0:00:01\r\u001b[K     |███████████████████████████████▉| 901kB 2.8MB/s eta 0:00:01\r\u001b[K     |████████████████████████████████| 911kB 2.8MB/s \n",
            "\u001b[?25hRequirement already satisfied: urllib3 in /usr/local/lib/python3.6/dist-packages (from selenium) (1.24.3)\n",
            "Installing collected packages: selenium\n",
            "Successfully installed selenium-3.141.0\n"
          ],
          "name": "stdout"
        }
      ]
    },
    {
      "cell_type": "code",
      "metadata": {
        "id": "YTzqYjzAHwLq"
      },
      "source": [
        "# For running in colab\n",
        "!pip install kora -q"
      ],
      "execution_count": 6,
      "outputs": []
    },
    {
      "cell_type": "markdown",
      "metadata": {
        "id": "Cmw2_5UTHa9R"
      },
      "source": [
        "## Starting a `selenium` session\n",
        "\n",
        "Note that this will pop up a Chrome window that will be controlled by your Python `driver` object.  **Don't close this window**"
      ]
    },
    {
      "cell_type": "code",
      "metadata": {
        "id": "-05gotLAHa9S",
        "outputId": "11dbffe1-0680-49d9-b39b-523fffc8da98",
        "colab": {
          "base_uri": "https://localhost:8080/",
          "height": 134
        }
      },
      "source": [
        "# For running locally (with a pop up browser)\n",
        "from selenium import webdriver\n",
        "\n",
        "DRIVER_PATH = '\\Users\\nm0257ms\\Downloads\\geckodriver-v0.28.0-win64'\n",
        "url = 'https://duckduckgo.com/'\n",
        "driver = webdriver.Firefox(executable_path=DRIVER_PATH)\n",
        "driver.get(url)"
      ],
      "execution_count": 41,
      "outputs": [
        {
          "output_type": "error",
          "ename": "SyntaxError",
          "evalue": "ignored",
          "traceback": [
            "\u001b[0;36m  File \u001b[0;32m\"<ipython-input-41-97e9669029fb>\"\u001b[0;36m, line \u001b[0;32m4\u001b[0m\n\u001b[0;31m    DRIVER_PATH = '\\Users\\nm0257ms\\Downloads\\geckodriver-v0.28.0-win64'\u001b[0m\n\u001b[0m                 ^\u001b[0m\n\u001b[0;31mSyntaxError\u001b[0m\u001b[0;31m:\u001b[0m (unicode error) 'unicodeescape' codec can't decode bytes in position 0-1: truncated \\UXXXXXXXX escape\n"
          ]
        }
      ]
    },
    {
      "cell_type": "code",
      "metadata": {
        "id": "xA1MPCv9HkL2"
      },
      "source": [
        "# For running in colab\n",
        "url = 'https://duckduckgo.com/'\n",
        "from kora.selenium import wd as driver\n",
        "driver.get(url)"
      ],
      "execution_count": 10,
      "outputs": []
    },
    {
      "cell_type": "markdown",
      "metadata": {
        "id": "u9ry2cQbH9ux"
      },
      "source": [
        "## Note on working in Google colab\n",
        "\n",
        "Since you don't have the pop up browser, you will need to open another browser window and mimic the steps you perform with the selenium driver."
      ]
    },
    {
      "cell_type": "code",
      "metadata": {
        "id": "RgpR8CNoHa9Y",
        "outputId": "4e237b76-09f6-4e64-ba72-a92796854dbd",
        "colab": {
          "base_uri": "https://localhost:8080/",
          "height": 145
        }
      },
      "source": [
        "driver.page_source"
      ],
      "execution_count": 11,
      "outputs": [
        {
          "output_type": "execute_result",
          "data": {
            "application/vnd.google.colaboratory.intrinsic+json": {
              "type": "string"
            },
            "text/plain": [
              "'<html class=\"js no-touch opacity csstransforms3d csstransitions svg cssfilters is-not-mobile-device full-urls is-atb-fullbleed has-search-focus\" lang=\"en_US\"><!--<![endif]--><head>\\n\\t<meta http-equiv=\"X-UA-Compatible\" content=\"IE=Edge\">\\n<meta http-equiv=\"content-type\" content=\"text/html; charset=UTF-8;charset=utf-8\">\\n<meta name=\"viewport\" content=\"width=device-width, initial-scale=1, user-scalable=1\">\\n<meta name=\"HandheldFriendly\" content=\"true\">\\n\\n<link rel=\"canonical\" href=\"https://duckduckgo.com/\">\\n\\n<link rel=\"stylesheet\" href=\"/s1936.css\" type=\"text/css\">\\n\\n<link rel=\"stylesheet\" href=\"/o1936.css\" type=\"text/css\">\\n\\n\\n\\n<link rel=\"preload\" href=\"/font/ProximaNova-Reg-webfont.woff2\" as=\"font\" type=\"font/woff2\" crossorigin=\"anonymous\">\\n<link rel=\"preload\" href=\"/font/ProximaNova-Sbold-webfont.woff2\" as=\"font\" type=\"font/woff2\" crossorigin=\"anonymous\">\\n<link rel=\"preload\" href=\"/font/ProximaNova-ExtraBold-webfont.woff2\" as=\"font\" type=\"font/woff2\" crossorigin=\"anonymous\">\\n\\n<link rel=\"shortcut icon\" href=\"/favicon.ico\" type=\"image/x-icon\">\\n<link rel=\"apple-touch-icon\" href=\"/assets/icons/meta/DDG-iOS-icon_60x60.png\">\\n<link rel=\"apple-touch-icon\" sizes=\"76x76\" href=\"/assets/icons/meta/DDG-iOS-icon_76x76.png\">\\n<link rel=\"apple-touch-icon\" sizes=\"120x120\" href=\"/assets/icons/meta/DDG-iOS-icon_120x120.png\">\\n<link rel=\"apple-touch-icon\" sizes=\"152x152\" href=\"/assets/icons/meta/DDG-iOS-icon_152x152.png\">\\n<link rel=\"image_src\" href=\"/assets/icons/meta/DDG-icon_256x256.png\">\\n<link rel=\"manifest\" href=\"/manifest.json\">\\n\\n<meta name=\"twitter:card\" content=\"summary\">\\n<meta name=\"twitter:site\" value=\"@duckduckgo\">\\n\\n<meta property=\"og:url\" content=\"https://duckduckgo.com/\">\\n<meta property=\"og:site_name\" content=\"DuckDuckGo\">\\n<meta property=\"og:image\" content=\"https://duckduckgo.com/assets/logo_social-media.png\">\\n\\n\\n\\t<title>DuckDuckGo — Privacy, simplified.</title>\\n<meta property=\"og:title\" content=\"DuckDuckGo — Privacy, simplified.\">\\n\\n\\n<meta property=\"og:description\" content=\"The Internet privacy company that empowers you to seamlessly take control of your personal information online, without any tradeoffs.\">\\n<meta name=\"description\" content=\"The Internet privacy company that empowers you to seamlessly take control of your personal information online, without any tradeoffs.\">\\n\\n\\n<link title=\"DuckDuckGo\" type=\"application/opensearchdescription+xml\" rel=\"search\" href=\"https://duckduckgo.com/opensearch.xml?atb=v246-1__\"><script type=\"application/ld+json\">{\"@context\":\"https://schema.org\",\"@type\":\"Organization\",\"name\":\"DuckDuckGo\",\"url\":\"http://duckduckgo.com/\",\"logo\":\"https://duckduckgo.com/assets/logo_social-media.png\"}</script></head>\\n<body id=\"pg-index\" class=\"page-index body--home body--onboarding\">\\n\\t<script type=\"text/javascript\">\\nvar settings_js_version = \"/s2477.js\",\\n    locale = \"en_US\";\\n</script>\\n<script type=\"text/javascript\" src=\"/lib/l118.js\"></script>\\n<script type=\"text/javascript\" src=\"/locale/en_US/duckduckgo14.js\"></script>\\n<script type=\"text/javascript\" src=\"/util/u496.js\"></script>\\n<script type=\"text/javascript\" src=\"/d2869.js\"></script>\\n\\n\\n\\n<script type=\"text/javascript\">\\n    DDG.page = new DDG.Pages.Home();\\n</script>\\n\\n\\n\\n\\t<div class=\"site-wrapper  site-wrapper--home  js-site-wrapper\">\\n\\t\\n\\t\\t\\n\\t\\t\\t<div class=\"header-wrap--home  js-header-wrap\">\\n\\t<div class=\"header--aside js-header-aside\"><a class=\"header__button--menu  js-side-menu-open\" href=\"#\">⇶</a><div class=\"header--aside__item showcase header__label\"><span class=\"header__clickable js-hl-button\" data-type=\"showcase\"><span class=\"js-popout-trig\" aria-haspopup=\"true\" aria-label=\"Check out the list of things that we\\'ve also made.\" role=\"button\" aria-pressed=\"false\"><span id=\"wedonttrack\">Privacy, simplified.</span></span><span class=\"popout-trig  js-popout\"><span class=\"js-popout-link js-showcase-popout ddgsi ddgsi-down\" aria-hidden=\"true\" data-type=\"showcase\"></span><div class=\"modal modal--popout modal--popout--bottom-left modal--popout--sm  js-popout-main\" data-type=\"showcase\"><div class=\"modal__box\"><div class=\"modal__body\"><nav aria-labelledby=\"wedonttrack\"><section class=\"showcase__dropdown-top\"><ul aria-label=\"Here are some things that we made that you might like.\"><li class=\"fix showcase__dropdown__list\"><a href=\"/app\" class=\"eighteen js-hl-item\" aria-hidden=\"true\" data-type=\"showcase\" data-id=\"app\"><div class=\"woman-icon\"></div></a><a href=\"/app\" class=\"text-left showcase__link eighty js-hl-item\" data-type=\"showcase\" data-id=\"app\"><h1 class=\"showcase__heading\">Get Our App &amp; Extension</h1><p class=\"showcase__subheading\">Protect your data on every device.</p></a></li><li class=\"fix showcase__dropdown__list\"><a href=\"/newsletter\" class=\"eighteen js-hl-item\" aria-hidden=\"true\" data-type=\"showcase\" data-id=\"newsletter\"><div class=\"mailbox-icon\"></div></a><a href=\"/newsletter\" class=\"text-left showcase__link eighty js-hl-item\" data-type=\"showcase\" data-id=\"newsletter\"><h1 class=\"showcase__heading\">Privacy in Your Inbox</h1><p class=\"showcase__subheading\">Stay protected and informed with our privacy newsletters.</p></a></li><li class=\"fix showcase__dropdown__list\"><a href=\"https://spreadprivacy.com/tag/device-privacy-tips/\" class=\"eighteen js-hl-item\" aria-hidden=\"true\" data-type=\"showcase\" data-id=\"blog\"><div class=\"privacy-simplified-icon\"></div></a><a href=\"https://spreadprivacy.com/tag/device-privacy-tips/\" class=\"text-left showcase__link eighty js-hl-item\" data-type=\"showcase\" data-id=\"blog\"><h1 class=\"showcase__heading\">Protect Your Devices</h1><p class=\"showcase__subheading\">Check out our privacy device guides.</p></a></li><li class=\"fix showcase__dropdown__list\"><a href=\"https://duckduckgo.com/spread\" class=\"eighteen js-hl-item\" aria-hidden=\"true\" data-type=\"showcase\" data-id=\"spread\"><div class=\"spread-icon\"></div></a><a href=\"https://duckduckgo.com/spread\" class=\"text-left showcase__link eighty js-hl-item\" data-type=\"showcase\" data-id=\"spread\"><h1 class=\"showcase__heading\">Spread DuckDuckGo</h1><p class=\"showcase__subheading\">Help your friends and family join the Duck Side!</p></a></li></ul></section><section class=\"showcase__dropdown-bottom\"><ul class=\"text-left\" aria-label=\"We\\'ve got even more things for you.\"><li class=\"fix showcase__dropdown__list\"><a href=\"https://duckduckgo.com/donations\" class=\"eighteen showcase__icon js-hl-item\" aria-hidden=\"true\" data-type=\"showcase\" data-id=\"donations\"><div class=\"donations-icon\"></div></a><a href=\"https://duckduckgo.com/donations\" class=\"text-left showcase__link eighty showcase__text js-hl-item\" data-type=\"showcase\" data-id=\"donations\">$2,650,000 in privacy donations!</a></li><li class=\"fix showcase__dropdown__list\"><a href=\"https://duckduckgo.com/traffic\" class=\"eighteen showcase__icon js-hl-item\" aria-hidden=\"true\" data-type=\"showcase\" data-id=\"traffic\"><div class=\"traffic-icon\"></div></a><a href=\"https://duckduckgo.com/traffic\" class=\"text-left showcase__link eighty showcase__text js-hl-item\" data-type=\"showcase\" data-id=\"traffic\">Over 59 Billion anonymous searches.</a></li><li class=\"fix showcase__dropdown__list\"><a href=\"https://donttrack.us/\" class=\"eighteen showcase__icon js-hl-item\" aria-hidden=\"true\" data-type=\"showcase\" data-id=\"dnt\"><div class=\"privacy-tips-icon\"></div></a><a href=\"https://donttrack.us/\" class=\"text-left showcase__link eighty showcase__text js-hl-item\" data-type=\"showcase\" data-id=\"dnt\">Learn why reducing tracking is important.</a></li></ul></section></nav></div></div></div></span></span></div><div class=\"header--aside__item header--aside__social header__label social\"><span class=\"header__clickable js-hl-button\" data-type=\"social\"><span class=\"js-popout-trig header--aside__social-icon \" aria-haspopup=\"true\" aria-label=\"Keep in touch\" role=\"button\" aria-pressed=\"false\"><span class=\"ddgsi ddgsi-horn\" data-type=\"social\"></span></span><span class=\"popout-trig js-popout\"><span class=\"js-popout-link ddgsi ddgsi-down\" aria-hidden=\"true\" data-type=\"social\"></span><div class=\"modal modal--popout modal--popout--bottom-left modal--popout--sm  js-popout-main\" data-type=\"social\"><div class=\"modal__box\"><div class=\"modal__body\"><div class=\"social__link\"><a href=\"https://twitter.com/duckduckgo\" class=\"js-hl-item social__link__text\" data-type=\"social\" data-id=\"twitter\"><img class=\"social__icon js-lazysvg\" data-src=\"/assets/icons/header/twitter.svg\"><span>Twitter</span></a></div><div class=\"social__link\"><a href=\"https://reddit.com/r/duckduckgo\" class=\"js-hl-item social__link__text\" data-type=\"social\" data-id=\"reddit\"><img class=\"social__icon js-lazysvg\" data-src=\"/assets/icons/header/reddit.svg\"><span>Reddit</span></a></div><div class=\"social__link\"><a href=\"https://spreadprivacy.com\" class=\"js-hl-item social__link__text\" data-type=\"social\" data-id=\"blog\"><img class=\"social__icon js-lazysvg\" data-src=\"/assets/icons/header/blog.svg\"><span>Blog</span></a></div><div class=\"social__link\"><a href=\"https://duckduckgo.com/newsletter\" class=\"js-hl-item social__link__text\" data-type=\"social\" data-id=\"newsletter\"><img class=\"social__icon js-lazysvg\" data-src=\"/assets/icons/header/newsletter.svg\"><span>Newsletter</span></a></div></div></div></div></span></span></div></div>\\n</div>\\n\\t\\t\\t<div id=\"\" class=\"content-wrap--home\">\\n\\t\\t\\t\\t<div id=\"content_homepage\" class=\"content--home\" style=\"visibility: visible;\">\\n\\t\\t\\t\\t\\t<div class=\"cw--c\">\\n\\t\\t\\t\\t\\t\\t\\t\\t<div class=\"logo-wrap--home\">\\n\\t\\t\\t<a id=\"logo_homepage_link\" class=\"logo_homepage\" href=\"/about\">\\n\\t\\t\\t\\tAbout DuckDuckGo\\n\\t\\t\\t\\t<span class=\"logo_homepage__tt\">Learn More</span>\\n\\t\\t\\t</a>\\n\\t\\t</div>\\n\\n\\t\\t\\t\\t\\t\\t<div class=\"search-wrap--home\">\\n\\t\\t\\t\\t\\t\\t\\t\\t\\t<form id=\"search_form_homepage\" class=\"search--home  js-search-form search--adv search--focus\" name=\"x\" method=\"GET\" action=\"/\">\\n\\t\\t\\t<input id=\"search_form_input_homepage\" class=\"js-search-input search__input--adv\" type=\"text\" autocomplete=\"off\" name=\"q\" tabindex=\"1\" value=\"\" autocapitalize=\"off\" autocorrect=\"off\" placeholder=\"Search the web without being tracked\">\\n\\t\\t\\t<input id=\"search_button_homepage\" class=\"search__button  js-search-button\" type=\"submit\" tabindex=\"2\" value=\"S\">\\n\\t\\t\\t<input id=\"search_form_input_clear\" class=\"search__clear  empty  js-search-clear\" type=\"button\" tabindex=\"3\" value=\"X\">\\n\\t\\t\\t<div id=\"search_elements_hidden\" class=\"search__hidden  js-search-hidden\"><input type=\"hidden\" class=\"js-search-hidden-field\" name=\"t\" value=\"h_\"></div>\\n\\t\\t<div class=\"search__autocomplete\"><div class=\"acp-wrap js-acp-wrap\"></div><div class=\"acp-footer is-hidden js-acp-footer\"><span class=\"acp-footer__instructions\">Shortcuts to other sites to search off DuckDuckGo</span><span class=\"acp-footer__link\"><a class=\"no-visited js-acp-footer-link\" href=\"/bang\">Learn More</a></span></div></div></form>\\n\\n\\t\\t\\t\\t\\t\\t</div>\\n\\t\\t\\n\\t\\n\\n\\t\\t\\t\\t\\t\\t<!-- en_US All Settings -->\\n<noscript>\\n    <div class=\"tag-home\">\\n        <div class=\"tag-home__wrapper\">\\n            <div class=\"tag-home__item\">\\n                Privacy, simplified&period;\\n                <span class=\"hide--screen-xs\"><a href=\"/about\" class=\"tag-home__link\">Learn More</a>.</span>\\n            </div>\\n        </div>\\n    </div>\\n</noscript>\\n<div class=\"tag-home  tag-home--slide  no-js__hide  js-tag-home\"><div class=\"tag-home__wrapper\"><div class=\"tag-home__item\">Privacy, simplified.<span class=\"hide--screen-xs\"> <a class=\"tag-home__link js-tag-item-link\" href=\"/spread\">Help Spread DuckDuckGo!</a></span></div></div></div>\\n<div id=\"error_homepage\"></div>\\n\\n\\n\\t\\n\\t\\t\\n\\t\\t\\t\\t\\t</div> <!-- cw -->\\n\\t\\t\\t\\t<div class=\"badge-link badge-link--full badge-link--set-as-default js-badge-link\" lang=\"en\"><div class=\"badge-link__wrap js-badge-main-msg\"><div class=\"badge-link__content\"><h1 class=\"badge-link__title\">Tired of being tracked online? <span>We can help.</span></h1><p class=\"badge-link__subtitle\">We don\\'t store your personal info. We don\\'t follow you around with ads. We don\\'t track you. Ever.</p><a class=\"badge-link__btn-wrap\" href=\"/install?t=h_\" target=\"_blank\"><span class=\"badge-link__btn btn btn--primary js-badge-link-button\">Add DuckDuckGo to Chrome</span></a><a href=\"https://chrome.google.com/webstore/detail/bkdgflcldnnnapblkhphbgpggdiikppg/reviews\" target=\"_blank\" class=\"badge-link__rating\" title=\"Average rating: 4.4 out of 5\"></a></div></div></div><div class=\"content-info\" lang=\"en\"><div class=\"content-info__title\">Privacy Protection For Any Device</div><div class=\"content-info__items \"><div class=\"content-info__items-wrap\"><div class=\"content-info__item\"><img class=\"content-info__item__icon\" src=\"/assets/add-to-browser/cppm/laptop.svg\" alt=\"a laptop with a lock on the screen and a red bird standing on it\"><div class=\"content-info__item__title\">Privacy Browser Extension</div><div class=\"content-info__item__subtitle\">Browse as usual, and we’ll take care of the rest. Get bundled private search, tracker blocking, and site encryption, all in one download, for <a href=\"https://duckduckgo.com/app\" target=\"_blank\" class=\"js-atb-tile-link content-info__item__link\" data-id=\"ext\">major browsers</a>.</div></div><div class=\"content-info__item\"><img class=\"content-info__item__icon\" src=\"/assets/home/landing/icons/search.svg\" alt=\"purple magnifying glass with a gold lock in the middle\"><div class=\"content-info__item__title\">Private Search Engine</div><div class=\"content-info__item__subtitle\">Search privately with our app or extension, add private web search to your favorite browser, or search directly at <span class=\"content-info__item__link js-atb-tile-link js-scroll-top\" data-id=\"st\">duckduckgo.com</span>.</div></div><div class=\"content-info__item\"><img class=\"content-info__item__icon\" src=\"/assets/add-to-browser/cppm/mobile.svg\" alt=\"a mobile phone with a lock on the screen\"><div class=\"content-info__item__title\">Privacy Browser App</div><div class=\"content-info__item__subtitle\">Our private browser for mobile comes equipped with our search engine, tracker blocker, encryption enforcer, and more. Available on <a href=\"https://duckduckgo.com/app\" target=\"_blank\" class=\"content-info__item__link js-atb-tile-link\" data-id=\"app\">iOS &amp; Android</a>.</div></div></div><!-- Background Curve --><svg class=\"content-info__curve\" xmlns=\"http://www.w3.org/2000/svg\" viewBox=\"0 0 1438 134\"><path d=\"M1438 1442H0V31.001S438.105 0 719 .001c280.896 0 719 31 719 31V1442z\" fill=\"currentColor\"></path></svg></div></div></div> <!-- content_homepage //-->\\n\\t\\t\\t</div> <!-- content_wrapper_homepage //-->\\n\\t\\t\\t<div id=\"footer_homepage\" class=\"foot-home  js-foot-home\"></div>\\n\\n<script type=\"text/javascript\">\\n\\t{function seterr(str) {\\n\\t\\tvar error=document.getElementById(\\'error_homepage\\');\\n\\t\\terror.innerHTML=str;\\n\\t\\t$(error).css(\\'display\\',\\'block\\');\\n\\t}\\n\\tvar err=new RegExp(\\'[\\\\?\\\\&]e=([^\\\\&]+)\\');var errm=new Array();errm[\\'2\\']=\\'no search\\';errm[\\'3\\']=\\'search too long\\';errm[\\'4\\']=\\'not UTF\\\\u002d8 encoding\\';errm[\\'6\\']=\\'too many search terms\\';if (err.test(window.location.href)) seterr(\\'Oops, \\'+(errm[RegExp.$1]?errm[RegExp.$1]:\\'there was an error.\\')+\\' &nbsp;Please try again\\');};\\n\\t\\n\\tif (kurl) {\\n\\t  document.getElementById(\"logo_homepage_link\").href += (document.getElementById(\"logo_homepage_link\").href.indexOf(\\'?\\')==-1 ? \\'?t=i\\' : \\'\\') + kurl;\\n\\t}\\n</script>\\n\\n\\t\\t\\n\\t\\n\\t<div class=\"nav-menu--slideout\"><ul class=\"nav-menu__list\"><i class=\"nav-menu__close  js-side-menu-close\">X</i><ul class=\"nav-menu--theme\"><li class=\"nav-menu__heading\"><span>Settings</span></li><li class=\"nav-menu__item clear\"><a href=\"/settings#theme\" data-settings=\"1\">Themes</a></li><li class=\"nav-menu__item\"><a href=\"/settings\" tabindex=\"-1\" data-settings=\"1\">Other Settings</a></li><li class=\"nav-menu__item\"><a href=\"/bangs\">!Bang Search Shortcuts</a></li></ul><ul><li class=\"nav-menu__heading\"><span>Privacy Essentials</span></li><li class=\"nav-menu__item\"><a href=\"https://duckduckgo.com/\">Private Search</a></li><li class=\"nav-menu__item\"><a href=\"/app\">App and Extension</a></li></ul><ul><li class=\"nav-menu__heading\"><span>Why Privacy</span></li><li class=\"nav-menu__item\"><a href=\"https://spreadprivacy.com/\">Privacy Blog</a></li><li class=\"nav-menu__item\"><a href=\"https://duckduckgo.com/newsletter\">Privacy Crash Course</a></li><li class=\"nav-menu__item\"><a href=\"/spread\">Help Spread Privacy</a></li></ul><ul><li class=\"nav-menu__heading\"><span>Who We Are</span></li><li class=\"nav-menu__item\"><a href=\"/about\">About Us</a></li><li class=\"nav-menu__item\"><a href=\"/privacy\">Privacy Policy</a></li><li class=\"nav-menu__item\"><a href=\"/hiring\">Careers</a></li><li class=\"nav-menu__item\"><a href=\"/press\">Press Kit</a></li></ul><ul><li class=\"nav-menu__heading\"><span>Keep in Touch</span></li><li class=\"nav-menu__item\"><a href=\"https://twitter.com/duckduckgo\">Twitter</a></li><li class=\"nav-menu__item\"><a href=\"https://duckduckgo.merchmadeeasy.com/\">Store</a></li><li class=\"nav-menu__item\"><a href=\"https://reddit.com/r/duckduckgo\">Reddit</a></li><li class=\"nav-menu__item\"><a href=\"https://help.duckduckgo.com/\">Help</a></li></ul></ul></div><div class=\"onboarding-ed js-onboarding-ed onboarding-ed--faq\"><a class=\"onboarding-ed__arrow js-onboarding-ed-arrow\" style=\"display: none;\"><img src=\"/assets/onboarding/arrow.svg\" loading=\"lazy\" width=\"24\" height=\"24\"></a><div class=\"onboarding-ed__slide onboarding-ed__slide-1 js-onboarding-ed-slide js-onboarding-ed-slide-1\"><div class=\"onboarding-ed__content\"><h1 class=\"onboarding-ed__title js-onboarding-ed-balance-text\" style=\"\">We don’t store your<br data-owner=\"balance-text\">personal information. Ever.</h1><p class=\"onboarding-ed__subtitle js-onboarding-ed-balance-text\" style=\"\">Our privacy policy is simple: we don’t collect<br data-owner=\"balance-text\">or share any of your personal information.</p><div class=\"js-onboarding-ed-button-small-1\"><a class=\"btn onboarding-ed__button-small ddg-extension-hide\" href=\"/install?t=h_\" target=\"_blank\">Add DuckDuckGo to Chrome</a></div></div><div class=\"onboarding-ed__image-container js-onboarding-ed-image-container-1\"><img data-src=\"/assets/onboarding/bathroomguy/1-monster-v2--pre-animation.svg\" class=\"onboarding-ed__image--placeholder js-hp-lazysvg\" width=\"1200\" height=\"460\" loading=\"lazy\"></div></div><div class=\"onboarding-ed__slide onboarding-ed__slide-2 js-onboarding-ed-slide js-onboarding-ed-slide-2\"><div class=\"onboarding-ed__content onboarding-ed__content--more-shadow\"><h1 class=\"onboarding-ed__title js-onboarding-ed-balance-text\" style=\"\">We don’t follow you around with ads.</h1><p class=\"onboarding-ed__subtitle js-onboarding-ed-balance-text\" style=\"\">We don’t store your search history. We therefore have nothing to sell to advertisers that track you across the Internet.</p><div class=\"js-onboarding-ed-button-small-2\"><a class=\"btn onboarding-ed__button-small ddg-extension-hide\" href=\"/install?t=h_\" target=\"_blank\">Add DuckDuckGo to Chrome</a></div></div><div class=\"onboarding-ed__image-container js-onboarding-ed-image-container-2\"><img data-src=\"/assets/onboarding/bathroomguy/2-ghost-v2.svg\" class=\"onboarding-ed__image--placeholder js-hp-lazysvg\" width=\"1200\" height=\"460\" loading=\"lazy\" src=\"/assets/onboarding/bathroomguy/2-ghost-v2.svg\"></div></div><div class=\"onboarding-ed__slide onboarding-ed__slide-3 js-onboarding-ed-slide js-onboarding-ed-slide-3\"><div class=\"onboarding-ed__content\"><h1 class=\"onboarding-ed__title js-onboarding-ed-balance-text\" style=\"\">We don’t track you in or out of private browsing mode.</h1><p class=\"onboarding-ed__subtitle js-onboarding-ed-balance-text\" style=\"\">Other search engines track your searches even when you’re in private browsing mode. We don’t track you — period.</p><div class=\"js-onboarding-ed-button-small-3\"><a class=\"btn onboarding-ed__button-small ddg-extension-hide\" href=\"/install?t=h_\" target=\"_blank\">Add DuckDuckGo to Chrome</a></div></div><div class=\"onboarding-ed__image-container js-onboarding-ed-image-container-3\"><img data-src=\"/assets/onboarding/bathroomguy/3-bathtub-v2--no-animation.svg\" class=\"onboarding-ed__image--placeholder js-hp-lazysvg\" width=\"1200\" height=\"460\" loading=\"lazy\" src=\"/assets/onboarding/bathroomguy/3-bathtub-v2--no-animation.svg\"></div></div><div class=\"onboarding-ed__slide onboarding-ed__slide-4 js-onboarding-ed-slide js-onboarding-ed-slide-4\"><div class=\"onboarding-ed__close\"><span class=\"js-onboarding-ed-dismiss onboarding-ed__close-dismiss\">Dismiss forever</span><span class=\"ddgsi onboarding-ed__close-divider\">|</span> <span class=\"onboarding-ed__close-back js-onboarding-ed-back-to-search\">Back to search</span> </div><div class=\"onboarding-ed__content js-onboarding-ed-install\"><h1 class=\"onboarding-ed__title js-onboarding-ed-balance-text\" style=\"\">Switch to DuckDuckGo and take back your privacy!</h1><p class=\"onboarding-ed__subtitle js-onboarding-ed-balance-text\" style=\"\">No tracking, no ad targeting, just searching.</p><div class=\"js-onboarding-ed-button\"><a class=\"btn onboarding-ed__button ddg-extension-hide\" href=\"/install?t=h_\" target=\"_blank\">Add DuckDuckGo to Chrome</a></div></div><div class=\"onboarding-ed__content js-onboarding-ed-spread\" style=\"display:none\"><h1 class=\"onboarding-ed__title js-onboarding-ed-balance-text\" style=\"\">Already a fan?<br>Invite friends to the Duck Side!</h1><p class=\"onboarding-ed__subtitle js-onboarding-ed-balance-text\" style=\"\">Share DuckDuckGo and help friends take their privacy back!</p><div><a class=\"btn onboarding-ed__button onboarding-ed__tweet-button js-onboarding-ed-tweet-button\" target=\"_blank\" href=\"https://twitter.com/?status=DuckDuckGo%20is%20my%20search%20engine%20of%20choice.%20%23ComeToTheDuckSide%20-%20we%20have%20privacy.%20https%3A%2F%2Fduckduckgo.com%2F%231\">Tweet #ComeToTheDuckSide</a></div></div><div class=\"onboarding-ed__image-container js-onboarding-ed-image-container-4\"><img data-src=\"/assets/onboarding/bathroomguy/4-alpinist-v2.svg\" class=\"onboarding-ed__image--placeholder js-hp-lazysvg\" width=\"1200\" height=\"460\" loading=\"lazy\" src=\"/assets/onboarding/bathroomguy/4-alpinist-v2.svg\"></div></div></div><article id=\"faq\" class=\"faq\" vocab=\"https://schema.org/\" typeof=\"FAQPage\"><h2 property=\"name\" class=\"faq__title\">Frequently Asked Questions</h2><div class=\"faq__content\"><section class=\"js-faq-section faq__section\" property=\"mainEntity\" typeof=\"Question\"><header class=\"js-faq-header faq__header\" data-disabled=\"true\"><button class=\"faq__button\" aria-expanded=\"true\" aria-disabled=\"true\" aria-controls=\"faq-answer-0\" id=\"faq-btn-0\"><svg width=\"20\" height=\"21\" viewBox=\"0 0 20 21\" fill=\"none\" xmlns=\"http://www.w3.org/2000/svg\"><circle cx=\"10\" cy=\"10.5\" r=\"10\" transform=\"rotate(-180 10 10.5)\" fill=\"#E5E5E5\"></circle><path d=\"M9.94454 12.8483L13.5355 9.25736C13.7308 9.0621 14.0474 9.0621 14.2426 9.25736C14.4379 9.45262 14.4379 9.7692 14.2426 9.96447L10.3536 13.8536C10.2418 13.9653 10.0903 14.0131 9.94454 13.9969C9.79879 14.0131 9.64729 13.9653 9.53553 13.8536L5.64645 9.96447C5.45118 9.7692 5.45118 9.45262 5.64645 9.25736C5.84171 9.0621 6.15829 9.0621 6.35355 9.25736L9.94454 12.8483Z\" fill=\"#353748\"></path></svg></button><h3 class=\"faq__question\" property=\"name\">How does DuckDuckGo make money?</h3></header><div id=\"faq-answer-0\" role=\"region\" aria-labelledby=\"faq-btn-0\" class=\"js-faq-collapsible faq__collapsible\" data-collapsed=\"false\" property=\"acceptedAnswer\" typeof=\"Answer\"><div class=\"faq__answer\"><p property=\"text\">We make our money from private ads on our search engine. On other search engines, ads are based on profiles compiled about you using your personal information like search, browsing, and purchase history. Since we don’t collect that information, search ads on DuckDuckGo are based on the search results page you are viewing, not on you as a person. For example, if you search for cars, we’ll show you ads about cars.</p>&nbsp;<a property=\"url\" href=\"https://spreadprivacy.com/duckduckgo-revenue-model/\" target=\"_blank\" data-id=\"6-l\">Learn more</a>.</div></div></section><section class=\"js-faq-section faq__section\" property=\"mainEntity\" typeof=\"Question\"><header class=\"js-faq-header faq__header\" data-disabled=\"false\"><button class=\"faq__button\" aria-expanded=\"false\" aria-disabled=\"false\" aria-controls=\"faq-answer-1\" id=\"faq-btn-1\"><svg width=\"20\" height=\"21\" viewBox=\"0 0 20 21\" fill=\"none\" xmlns=\"http://www.w3.org/2000/svg\"><circle cx=\"10\" cy=\"10.5\" r=\"10\" transform=\"rotate(-180 10 10.5)\" fill=\"#E5E5E5\"></circle><path d=\"M9.94454 12.8483L13.5355 9.25736C13.7308 9.0621 14.0474 9.0621 14.2426 9.25736C14.4379 9.45262 14.4379 9.7692 14.2426 9.96447L10.3536 13.8536C10.2418 13.9653 10.0903 14.0131 9.94454 13.9969C9.79879 14.0131 9.64729 13.9653 9.53553 13.8536L5.64645 9.96447C5.45118 9.7692 5.45118 9.45262 5.64645 9.25736C5.84171 9.0621 6.15829 9.0621 6.35355 9.25736L9.94454 12.8483Z\" fill=\"#353748\"></path></svg></button><h3 class=\"faq__question\" property=\"name\">What does Google know about me?</h3></header><div id=\"faq-answer-1\" role=\"region\" aria-labelledby=\"faq-btn-1\" class=\"js-faq-collapsible faq__collapsible\" data-collapsed=\"true\" property=\"acceptedAnswer\" typeof=\"Answer\" style=\"height: 0px;\"><div class=\"faq__answer\"><p property=\"text\">Not only does Google keep your search history forever by default, their trackers have been found on 75% of the top million websites, which means they are tracking most everywhere you go on the Internet (unless you stop them with DuckDuckGo!). And that’s just the tip of the iceberg.</p>&nbsp;<a property=\"url\" href=\"https://spreadprivacy.com/what-does-google-know-about-me/\" target=\"_blank\" data-id=\"2-l\">Learn more</a>.</div></div></section><section class=\"js-faq-section faq__section\" property=\"mainEntity\" typeof=\"Question\"><header class=\"js-faq-header faq__header\" data-disabled=\"false\"><button class=\"faq__button\" aria-expanded=\"false\" aria-disabled=\"false\" aria-controls=\"faq-answer-2\" id=\"faq-btn-2\"><svg width=\"20\" height=\"21\" viewBox=\"0 0 20 21\" fill=\"none\" xmlns=\"http://www.w3.org/2000/svg\"><circle cx=\"10\" cy=\"10.5\" r=\"10\" transform=\"rotate(-180 10 10.5)\" fill=\"#E5E5E5\"></circle><path d=\"M9.94454 12.8483L13.5355 9.25736C13.7308 9.0621 14.0474 9.0621 14.2426 9.25736C14.4379 9.45262 14.4379 9.7692 14.2426 9.96447L10.3536 13.8536C10.2418 13.9653 10.0903 14.0131 9.94454 13.9969C9.79879 14.0131 9.64729 13.9653 9.53553 13.8536L5.64645 9.96447C5.45118 9.7692 5.45118 9.45262 5.64645 9.25736C5.84171 9.0621 6.15829 9.0621 6.35355 9.25736L9.94454 12.8483Z\" fill=\"#353748\"></path></svg></button><h3 class=\"faq__question\" property=\"name\">Why use DuckDuckGo instead of Google?</h3></header><div id=\"faq-answer-2\" role=\"region\" aria-labelledby=\"faq-btn-2\" class=\"js-faq-collapsible faq__collapsible\" data-collapsed=\"true\" property=\"acceptedAnswer\" typeof=\"Answer\" style=\"height: 0px;\"><div class=\"faq__answer\"><p property=\"text\">Ever notice ads constantly following you around? That’s in part because Google tracks your searches and hides trackers on millions of websites. By contrast, our private search engine doesn’t track your searches and our <a href=\"https://duckduckgo.com/app\" target=\"_blank\" data-id=\"1-t0\">DuckDuckGo browser extension and mobile app</a> block Google’s (and many other companies’) trackers across the Internet, helping to keep your browsing history more private, as it should be. And that’s just the beginning — by using DuckDuckGo you also escape the manipulation of the filter bubble and can use the Internet faster (after all that tracking code is disabled).</p>&nbsp;<a property=\"url\" href=\"https://spreadprivacy.com/why-use-duckduckgo-instead-of-google/\" target=\"_blank\" data-id=\"1-l\">Learn more</a>.</div></div></section><section class=\"js-faq-section faq__section\" property=\"mainEntity\" typeof=\"Question\"><header class=\"js-faq-header faq__header\" data-disabled=\"false\"><button class=\"faq__button\" aria-expanded=\"false\" aria-disabled=\"false\" aria-controls=\"faq-answer-3\" id=\"faq-btn-3\"><svg width=\"20\" height=\"21\" viewBox=\"0 0 20 21\" fill=\"none\" xmlns=\"http://www.w3.org/2000/svg\"><circle cx=\"10\" cy=\"10.5\" r=\"10\" transform=\"rotate(-180 10 10.5)\" fill=\"#E5E5E5\"></circle><path d=\"M9.94454 12.8483L13.5355 9.25736C13.7308 9.0621 14.0474 9.0621 14.2426 9.25736C14.4379 9.45262 14.4379 9.7692 14.2426 9.96447L10.3536 13.8536C10.2418 13.9653 10.0903 14.0131 9.94454 13.9969C9.79879 14.0131 9.64729 13.9653 9.53553 13.8536L5.64645 9.96447C5.45118 9.7692 5.45118 9.45262 5.64645 9.25736C5.84171 9.0621 6.15829 9.0621 6.35355 9.25736L9.94454 12.8483Z\" fill=\"#353748\"></path></svg></button><h3 class=\"faq__question\" property=\"name\">How do DuckDuckGo search results compare to Google’s?</h3></header><div id=\"faq-answer-3\" role=\"region\" aria-labelledby=\"faq-btn-3\" class=\"js-faq-collapsible faq__collapsible\" data-collapsed=\"true\" property=\"acceptedAnswer\" typeof=\"Answer\" style=\"height: 0px;\"><div class=\"faq__answer\"><p property=\"text\">DuckDuckGo search gives you truly private search results without tradeoffs in result quality. We have everything you’ve come to expect in an online search experience, and a few <a href=\"https://duckduckgo.com/bang\" target=\"_blank\" data-id=\"4-t0\">bonus features</a> that make searching the Internet not only private, but also a bit more fun! And, on top of that, because there is no search history on DuckDuckGo, you escape the filter bubble of manipulated results.</p>&nbsp;<a property=\"url\" href=\"https://spreadprivacy.com/is-duckduckgo-a-good-search-engine/\" target=\"_blank\" data-id=\"4-l\">Learn more</a>.</div></div></section><section class=\"js-faq-section faq__section\" property=\"mainEntity\" typeof=\"Question\"><header class=\"js-faq-header faq__header\" data-disabled=\"false\"><button class=\"faq__button\" aria-expanded=\"false\" aria-disabled=\"false\" aria-controls=\"faq-answer-4\" id=\"faq-btn-4\"><svg width=\"20\" height=\"21\" viewBox=\"0 0 20 21\" fill=\"none\" xmlns=\"http://www.w3.org/2000/svg\"><circle cx=\"10\" cy=\"10.5\" r=\"10\" transform=\"rotate(-180 10 10.5)\" fill=\"#E5E5E5\"></circle><path d=\"M9.94454 12.8483L13.5355 9.25736C13.7308 9.0621 14.0474 9.0621 14.2426 9.25736C14.4379 9.45262 14.4379 9.7692 14.2426 9.96447L10.3536 13.8536C10.2418 13.9653 10.0903 14.0131 9.94454 13.9969C9.79879 14.0131 9.64729 13.9653 9.53553 13.8536L5.64645 9.96447C5.45118 9.7692 5.45118 9.45262 5.64645 9.25736C5.84171 9.0621 6.15829 9.0621 6.35355 9.25736L9.94454 12.8483Z\" fill=\"#353748\"></path></svg></button><h3 class=\"faq__question\" property=\"name\">What’s the difference between using DuckDuckGo and Incognito mode?</h3></header><div id=\"faq-answer-4\" role=\"region\" aria-labelledby=\"faq-btn-4\" class=\"js-faq-collapsible faq__collapsible\" data-collapsed=\"true\" property=\"acceptedAnswer\" typeof=\"Answer\" style=\"height: 0px;\"><div class=\"faq__answer\"><p property=\"text\">It is a myth that you can’t be tracked while using so-called “Incognito” mode. In fact, Incognito mode mainly just deletes information on your computer and does nothing to stop Google from saving your searches, nor does it stop companies, Internet service providers, or governments from being able to track you across the Internet. By contrast, DuckDuckGo search is completely anonymous and if you add our app &amp; extension on top, we help keep you private when browsing off of search results.</p>&nbsp;<a property=\"url\" href=\"https://spreadprivacy.com/how-anonymous-is-duckduckgo/\" target=\"_blank\" data-id=\"3-l\">Learn more</a>.</div></div></section><section class=\"js-faq-section faq__section\" property=\"mainEntity\" typeof=\"Question\"><header class=\"js-faq-header faq__header\" data-disabled=\"false\"><button class=\"faq__button\" aria-expanded=\"false\" aria-disabled=\"false\" aria-controls=\"faq-answer-5\" id=\"faq-btn-5\"><svg width=\"20\" height=\"21\" viewBox=\"0 0 20 21\" fill=\"none\" xmlns=\"http://www.w3.org/2000/svg\"><circle cx=\"10\" cy=\"10.5\" r=\"10\" transform=\"rotate(-180 10 10.5)\" fill=\"#E5E5E5\"></circle><path d=\"M9.94454 12.8483L13.5355 9.25736C13.7308 9.0621 14.0474 9.0621 14.2426 9.25736C14.4379 9.45262 14.4379 9.7692 14.2426 9.96447L10.3536 13.8536C10.2418 13.9653 10.0903 14.0131 9.94454 13.9969C9.79879 14.0131 9.64729 13.9653 9.53553 13.8536L5.64645 9.96447C5.45118 9.7692 5.45118 9.45262 5.64645 9.25736C5.84171 9.0621 6.15829 9.0621 6.35355 9.25736L9.94454 12.8483Z\" fill=\"#353748\"></path></svg></button><h3 class=\"faq__question\" property=\"name\">How popular is DuckDuckGo?</h3></header><div id=\"faq-answer-5\" role=\"region\" aria-labelledby=\"faq-btn-5\" class=\"js-faq-collapsible faq__collapsible\" data-collapsed=\"true\" property=\"acceptedAnswer\" typeof=\"Answer\" style=\"height: 0px;\"><div class=\"faq__answer\"><p property=\"text\">We don’t track our users, so it’s actually impossible for us to know how many users in total are using our products. However, we are able to make an estimate based on the number of searches we get per month, <a href=\"https://duckduckgo.com/traffic\" target=\"_blank\" data-id=\"5-t0\">which we make public</a>. Our best guess — over 50 million people!</p>&nbsp;<a property=\"url\" href=\"https://spreadprivacy.com/how-many-people-use-duckduckgo/\" target=\"_blank\" data-id=\"5-l\">Learn more</a>.</div></div></section><section class=\"js-faq-section faq__section\" property=\"mainEntity\" typeof=\"Question\"><header class=\"js-faq-header faq__header\" data-disabled=\"false\"><button class=\"faq__button\" aria-expanded=\"false\" aria-disabled=\"false\" aria-controls=\"faq-answer-6\" id=\"faq-btn-6\"><svg width=\"20\" height=\"21\" viewBox=\"0 0 20 21\" fill=\"none\" xmlns=\"http://www.w3.org/2000/svg\"><circle cx=\"10\" cy=\"10.5\" r=\"10\" transform=\"rotate(-180 10 10.5)\" fill=\"#E5E5E5\"></circle><path d=\"M9.94454 12.8483L13.5355 9.25736C13.7308 9.0621 14.0474 9.0621 14.2426 9.25736C14.4379 9.45262 14.4379 9.7692 14.2426 9.96447L10.3536 13.8536C10.2418 13.9653 10.0903 14.0131 9.94454 13.9969C9.79879 14.0131 9.64729 13.9653 9.53553 13.8536L5.64645 9.96447C5.45118 9.7692 5.45118 9.45262 5.64645 9.25736C5.84171 9.0621 6.15829 9.0621 6.35355 9.25736L9.94454 12.8483Z\" fill=\"#353748\"></path></svg></button><h3 class=\"faq__question\" property=\"name\">How does the DuckDuckGo app &amp; extension work?</h3></header><div id=\"faq-answer-6\" role=\"region\" aria-labelledby=\"faq-btn-6\" class=\"js-faq-collapsible faq__collapsible\" data-collapsed=\"true\" property=\"acceptedAnswer\" typeof=\"Answer\" style=\"height: 0px;\"><div class=\"faq__answer\"><p property=\"text\">The DuckDuckGo Privacy Browser mobile app and Privacy Essentials desktop extension both come with our best-in-class tracker blocker, encryption enforcer, and private search engine – all in one simple package. This gives you all the key privacy protection tools to search and browse privately, curbing the constant monitoring of your Internet activity by companies like Google and Facebook.</p>&nbsp;<a property=\"url\" href=\"https://spreadprivacy.com/how-does-the-duckduckgo-app-extension-protect-my-privacy/\" target=\"_blank\" data-id=\"0-l\">Learn more</a>.</div></div></section></div>    </article><a class=\"btn btn--primary atb-button--faq ddg-extension-hide\" href=\"/install?t=h_\" target=\"_blank\">Add DuckDuckGo to Chrome</a></div> <!-- site-wrapper -->\\n\\n\\n<iframe id=\"iframe_hidden\" src=\"/post2.html\"></iframe></body></html>'"
            ]
          },
          "metadata": {
            "tags": []
          },
          "execution_count": 11
        }
      ]
    },
    {
      "cell_type": "code",
      "metadata": {
        "id": "V7i5B-5gHa9g",
        "outputId": "6eb2f399-5606-49b6-ca6c-66a08165e719",
        "colab": {
          "base_uri": "https://localhost:8080/",
          "height": 36
        }
      },
      "source": [
        "driver.title"
      ],
      "execution_count": 12,
      "outputs": [
        {
          "output_type": "execute_result",
          "data": {
            "application/vnd.google.colaboratory.intrinsic+json": {
              "type": "string"
            },
            "text/plain": [
              "'DuckDuckGo — Privacy, simplified.'"
            ]
          },
          "metadata": {
            "tags": []
          },
          "execution_count": 12
        }
      ]
    },
    {
      "cell_type": "code",
      "metadata": {
        "id": "bzM0joSoHa9k",
        "outputId": "b018fee9-f80a-4f5d-f461-b8b661fbaa11",
        "colab": {
          "base_uri": "https://localhost:8080/",
          "height": 36
        }
      },
      "source": [
        "driver.current_url"
      ],
      "execution_count": 13,
      "outputs": [
        {
          "output_type": "execute_result",
          "data": {
            "application/vnd.google.colaboratory.intrinsic+json": {
              "type": "string"
            },
            "text/plain": [
              "'https://duckduckgo.com/'"
            ]
          },
          "metadata": {
            "tags": []
          },
          "execution_count": 13
        }
      ]
    },
    {
      "cell_type": "markdown",
      "metadata": {
        "id": "LMn-ampCHa9n"
      },
      "source": [
        "## Locating the First Element\n",
        "\n",
        "Can locate by\n",
        "\n",
        "* Tag name\n",
        "* Class name\n",
        "* IDs\n",
        "* XPath\n",
        "* CSS selectors\n",
        "\n",
        "**Note:** This is the same as `find` in `bs4`"
      ]
    },
    {
      "cell_type": "code",
      "metadata": {
        "id": "AsvhFeKKHa9o",
        "outputId": "2d1d4bf5-bc6b-4687-db49-eb82e93e9410",
        "colab": {
          "base_uri": "https://localhost:8080/"
        }
      },
      "source": [
        "p = driver.find_element_by_tag_name('p')\n",
        "p"
      ],
      "execution_count": 14,
      "outputs": [
        {
          "output_type": "execute_result",
          "data": {
            "text/plain": [
              "<p class=\"showcase__subheading\">Protect your data on every device.</p>"
            ]
          },
          "metadata": {
            "tags": []
          },
          "execution_count": 14
        }
      ]
    },
    {
      "cell_type": "code",
      "metadata": {
        "id": "veFJLAiRHa9u",
        "outputId": "8ed92420-6e13-4823-b6ea-ed58cfeb1cd8",
        "colab": {
          "base_uri": "https://localhost:8080/"
        }
      },
      "source": [
        "faq_button = driver.find_element_by_class_name('faq__button')\n",
        "faq_button"
      ],
      "execution_count": 15,
      "outputs": [
        {
          "output_type": "execute_result",
          "data": {
            "text/plain": [
              "<button class=\"faq__button\" aria-expanded=\"true\" aria-disabled=\"true\" aria-controls=\"faq-answer-0\" id=\"faq-btn-0\"><svg width=\"20\" height=\"21\" viewBox=\"0 0 20 21\" fill=\"none\" xmlns=\"http://www.w3.org/2000/svg\"><circle cx=\"10\" cy=\"10.5\" r=\"10\" transform=\"rotate(-180 10 10.5)\" fill=\"#E5E5E5\"></circle><path d=\"M9.94454 12.8483L13.5355 9.25736C13.7308 9.0621 14.0474 9.0621 14.2426 9.25736C14.4379 9.45262 14.4379 9.7692 14.2426 9.96447L10.3536 13.8536C10.2418 13.9653 10.0903 14.0131 9.94454 13.9969C9.79879 14.0131 9.64729 13.9653 9.53553 13.8536L5.64645 9.96447C5.45118 9.7692 5.45118 9.45262 5.64645 9.25736C5.84171 9.0621 6.15829 9.0621 6.35355 9.25736L9.94454 12.8483Z\" fill=\"#353748\"></path></svg></button>"
            ]
          },
          "metadata": {
            "tags": []
          },
          "execution_count": 15
        }
      ]
    },
    {
      "cell_type": "code",
      "metadata": {
        "id": "gjMgVcCsHa9z",
        "outputId": "4006e5e6-02fc-4487-e6de-3014ce43306d",
        "colab": {
          "base_uri": "https://localhost:8080/"
        }
      },
      "source": [
        "error_div = driver.find_element_by_id('error_homepage')\n",
        "error_div"
      ],
      "execution_count": 16,
      "outputs": [
        {
          "output_type": "execute_result",
          "data": {
            "text/plain": [
              "<div id=\"error_homepage\"></div>"
            ]
          },
          "metadata": {
            "tags": []
          },
          "execution_count": 16
        }
      ]
    },
    {
      "cell_type": "markdown",
      "metadata": {
        "id": "fLHdcrXPHa93"
      },
      "source": [
        "## Locating all the Elements\n",
        "\n",
        "Use the plural (i.e. `elements`) to `find_all` tags."
      ]
    },
    {
      "cell_type": "code",
      "metadata": {
        "id": "CVDKvV3PHa95",
        "outputId": "ba7fac4a-283e-43b4-bfc9-87585283b77a",
        "colab": {
          "base_uri": "https://localhost:8080/"
        }
      },
      "source": [
        "a_tags = driver.find_elements_by_tag_name('a')\n",
        "a_tags"
      ],
      "execution_count": 17,
      "outputs": [
        {
          "output_type": "execute_result",
          "data": {
            "text/plain": [
              "[<a class=\"header__button--menu  js-side-menu-open\" href=\"#\">⇶</a>,\n",
              " <a href=\"/app\" class=\"eighteen js-hl-item\" aria-hidden=\"true\" data-type=\"showcase\" data-id=\"app\"><div class=\"woman-icon\"></div></a>,\n",
              " <a href=\"/app\" class=\"text-left showcase__link eighty js-hl-item\" data-type=\"showcase\" data-id=\"app\"><h1 class=\"showcase__heading\">Get Our App &amp; Extension</h1><p class=\"showcase__subheading\">Protect your data on every device.</p></a>,\n",
              " <a href=\"/newsletter\" class=\"eighteen js-hl-item\" aria-hidden=\"true\" data-type=\"showcase\" data-id=\"newsletter\"><div class=\"mailbox-icon\"></div></a>,\n",
              " <a href=\"/newsletter\" class=\"text-left showcase__link eighty js-hl-item\" data-type=\"showcase\" data-id=\"newsletter\"><h1 class=\"showcase__heading\">Privacy in Your Inbox</h1><p class=\"showcase__subheading\">Stay protected and informed with our privacy newsletters.</p></a>,\n",
              " <a href=\"https://spreadprivacy.com/tag/device-privacy-tips/\" class=\"eighteen js-hl-item\" aria-hidden=\"true\" data-type=\"showcase\" data-id=\"blog\"><div class=\"privacy-simplified-icon\"></div></a>,\n",
              " <a href=\"https://spreadprivacy.com/tag/device-privacy-tips/\" class=\"text-left showcase__link eighty js-hl-item\" data-type=\"showcase\" data-id=\"blog\"><h1 class=\"showcase__heading\">Protect Your Devices</h1><p class=\"showcase__subheading\">Check out our privacy device guides.</p></a>,\n",
              " <a href=\"https://duckduckgo.com/spread\" class=\"eighteen js-hl-item\" aria-hidden=\"true\" data-type=\"showcase\" data-id=\"spread\"><div class=\"spread-icon\"></div></a>,\n",
              " <a href=\"https://duckduckgo.com/spread\" class=\"text-left showcase__link eighty js-hl-item\" data-type=\"showcase\" data-id=\"spread\"><h1 class=\"showcase__heading\">Spread DuckDuckGo</h1><p class=\"showcase__subheading\">Help your friends and family join the Duck Side!</p></a>,\n",
              " <a href=\"https://duckduckgo.com/donations\" class=\"eighteen showcase__icon js-hl-item\" aria-hidden=\"true\" data-type=\"showcase\" data-id=\"donations\"><div class=\"donations-icon\"></div></a>,\n",
              " <a href=\"https://duckduckgo.com/donations\" class=\"text-left showcase__link eighty showcase__text js-hl-item\" data-type=\"showcase\" data-id=\"donations\">$2,650,000 in privacy donations!</a>,\n",
              " <a href=\"https://duckduckgo.com/traffic\" class=\"eighteen showcase__icon js-hl-item\" aria-hidden=\"true\" data-type=\"showcase\" data-id=\"traffic\"><div class=\"traffic-icon\"></div></a>,\n",
              " <a href=\"https://duckduckgo.com/traffic\" class=\"text-left showcase__link eighty showcase__text js-hl-item\" data-type=\"showcase\" data-id=\"traffic\">Over 59 Billion anonymous searches.</a>,\n",
              " <a href=\"https://donttrack.us/\" class=\"eighteen showcase__icon js-hl-item\" aria-hidden=\"true\" data-type=\"showcase\" data-id=\"dnt\"><div class=\"privacy-tips-icon\"></div></a>,\n",
              " <a href=\"https://donttrack.us/\" class=\"text-left showcase__link eighty showcase__text js-hl-item\" data-type=\"showcase\" data-id=\"dnt\">Learn why reducing tracking is important.</a>,\n",
              " <a href=\"https://twitter.com/duckduckgo\" class=\"js-hl-item social__link__text\" data-type=\"social\" data-id=\"twitter\"><img class=\"social__icon js-lazysvg\" data-src=\"/assets/icons/header/twitter.svg\"><span>Twitter</span></a>,\n",
              " <a href=\"https://reddit.com/r/duckduckgo\" class=\"js-hl-item social__link__text\" data-type=\"social\" data-id=\"reddit\"><img class=\"social__icon js-lazysvg\" data-src=\"/assets/icons/header/reddit.svg\"><span>Reddit</span></a>,\n",
              " <a href=\"https://spreadprivacy.com\" class=\"js-hl-item social__link__text\" data-type=\"social\" data-id=\"blog\"><img class=\"social__icon js-lazysvg\" data-src=\"/assets/icons/header/blog.svg\"><span>Blog</span></a>,\n",
              " <a href=\"https://duckduckgo.com/newsletter\" class=\"js-hl-item social__link__text\" data-type=\"social\" data-id=\"newsletter\"><img class=\"social__icon js-lazysvg\" data-src=\"/assets/icons/header/newsletter.svg\"><span>Newsletter</span></a>,\n",
              " <a id=\"logo_homepage_link\" class=\"logo_homepage\" href=\"/about\">\n",
              " \t\t\t\tAbout DuckDuckGo\n",
              " \t\t\t\t<span class=\"logo_homepage__tt\">Learn More</span>\n",
              " \t\t\t</a>,\n",
              " <a class=\"no-visited js-acp-footer-link\" href=\"/bang\">Learn More</a>,\n",
              " <a class=\"tag-home__link js-tag-item-link\" href=\"/spread\">Help Spread DuckDuckGo!</a>,\n",
              " <a class=\"badge-link__btn-wrap\" href=\"/install?t=h_\" target=\"_blank\"><span class=\"badge-link__btn btn btn--primary js-badge-link-button\">Add DuckDuckGo to Chrome</span></a>,\n",
              " <a href=\"https://chrome.google.com/webstore/detail/bkdgflcldnnnapblkhphbgpggdiikppg/reviews\" target=\"_blank\" class=\"badge-link__rating\" title=\"Average rating: 4.4 out of 5\"></a>,\n",
              " <a href=\"https://duckduckgo.com/app\" target=\"_blank\" class=\"js-atb-tile-link content-info__item__link\" data-id=\"ext\">major browsers</a>,\n",
              " <a href=\"https://duckduckgo.com/app\" target=\"_blank\" class=\"content-info__item__link js-atb-tile-link\" data-id=\"app\">iOS &amp; Android</a>,\n",
              " <a href=\"/settings#theme\" data-settings=\"1\">Themes</a>,\n",
              " <a href=\"/settings\" tabindex=\"-1\" data-settings=\"1\">Other Settings</a>,\n",
              " <a href=\"/bangs\">!Bang Search Shortcuts</a>,\n",
              " <a href=\"https://duckduckgo.com/\">Private Search</a>,\n",
              " <a href=\"/app\">App and Extension</a>,\n",
              " <a href=\"https://spreadprivacy.com/\">Privacy Blog</a>,\n",
              " <a href=\"https://duckduckgo.com/newsletter\">Privacy Crash Course</a>,\n",
              " <a href=\"/spread\">Help Spread Privacy</a>,\n",
              " <a href=\"/about\">About Us</a>,\n",
              " <a href=\"/privacy\">Privacy Policy</a>,\n",
              " <a href=\"/hiring\">Careers</a>,\n",
              " <a href=\"/press\">Press Kit</a>,\n",
              " <a href=\"https://twitter.com/duckduckgo\">Twitter</a>,\n",
              " <a href=\"https://duckduckgo.merchmadeeasy.com/\">Store</a>,\n",
              " <a href=\"https://reddit.com/r/duckduckgo\">Reddit</a>,\n",
              " <a href=\"https://help.duckduckgo.com/\">Help</a>,\n",
              " <a class=\"onboarding-ed__arrow js-onboarding-ed-arrow\" style=\"display: none;\"><img src=\"/assets/onboarding/arrow.svg\" loading=\"lazy\" width=\"24\" height=\"24\"></a>,\n",
              " <a class=\"btn onboarding-ed__button-small ddg-extension-hide\" href=\"/install?t=h_\" target=\"_blank\">Add DuckDuckGo to Chrome</a>,\n",
              " <a class=\"btn onboarding-ed__button-small ddg-extension-hide\" href=\"/install?t=h_\" target=\"_blank\">Add DuckDuckGo to Chrome</a>,\n",
              " <a class=\"btn onboarding-ed__button-small ddg-extension-hide\" href=\"/install?t=h_\" target=\"_blank\">Add DuckDuckGo to Chrome</a>,\n",
              " <a class=\"btn onboarding-ed__button ddg-extension-hide\" href=\"/install?t=h_\" target=\"_blank\">Add DuckDuckGo to Chrome</a>,\n",
              " <a class=\"btn onboarding-ed__button onboarding-ed__tweet-button js-onboarding-ed-tweet-button\" target=\"_blank\" href=\"https://twitter.com/?status=DuckDuckGo%20is%20my%20search%20engine%20of%20choice.%20%23ComeToTheDuckSide%20-%20we%20have%20privacy.%20https%3A%2F%2Fduckduckgo.com%2F%231\">Tweet #ComeToTheDuckSide</a>,\n",
              " <a property=\"url\" href=\"https://spreadprivacy.com/duckduckgo-revenue-model/\" target=\"_blank\" data-id=\"6-l\">Learn more</a>,\n",
              " <a property=\"url\" href=\"https://spreadprivacy.com/what-does-google-know-about-me/\" target=\"_blank\" data-id=\"2-l\">Learn more</a>,\n",
              " <a href=\"https://duckduckgo.com/app\" target=\"_blank\" data-id=\"1-t0\">DuckDuckGo browser extension and mobile app</a>,\n",
              " <a property=\"url\" href=\"https://spreadprivacy.com/why-use-duckduckgo-instead-of-google/\" target=\"_blank\" data-id=\"1-l\">Learn more</a>,\n",
              " <a href=\"https://duckduckgo.com/bang\" target=\"_blank\" data-id=\"4-t0\">bonus features</a>,\n",
              " <a property=\"url\" href=\"https://spreadprivacy.com/is-duckduckgo-a-good-search-engine/\" target=\"_blank\" data-id=\"4-l\">Learn more</a>,\n",
              " <a property=\"url\" href=\"https://spreadprivacy.com/how-anonymous-is-duckduckgo/\" target=\"_blank\" data-id=\"3-l\">Learn more</a>,\n",
              " <a href=\"https://duckduckgo.com/traffic\" target=\"_blank\" data-id=\"5-t0\">which we make public</a>,\n",
              " <a property=\"url\" href=\"https://spreadprivacy.com/how-many-people-use-duckduckgo/\" target=\"_blank\" data-id=\"5-l\">Learn more</a>,\n",
              " <a property=\"url\" href=\"https://spreadprivacy.com/how-does-the-duckduckgo-app-extension-protect-my-privacy/\" target=\"_blank\" data-id=\"0-l\">Learn more</a>,\n",
              " <a class=\"btn btn--primary atb-button--faq ddg-extension-hide\" href=\"/install?t=h_\" target=\"_blank\">Add DuckDuckGo to Chrome</a>]"
            ]
          },
          "metadata": {
            "tags": []
          },
          "execution_count": 17
        }
      ]
    },
    {
      "cell_type": "markdown",
      "metadata": {
        "id": "9hTlolsJHa9_"
      },
      "source": [
        "## The `WebElement` object\n",
        "\n",
        "`selenium` object representing an `html` tag."
      ]
    },
    {
      "cell_type": "code",
      "metadata": {
        "id": "w-KLMKXLHa-A",
        "outputId": "6d4ec74a-516a-474d-d2e9-2dac08c2fa6a",
        "colab": {
          "base_uri": "https://localhost:8080/",
          "height": 36
        }
      },
      "source": [
        "p.text"
      ],
      "execution_count": 18,
      "outputs": [
        {
          "output_type": "execute_result",
          "data": {
            "application/vnd.google.colaboratory.intrinsic+json": {
              "type": "string"
            },
            "text/plain": [
              "''"
            ]
          },
          "metadata": {
            "tags": []
          },
          "execution_count": 18
        }
      ]
    },
    {
      "cell_type": "code",
      "metadata": {
        "id": "QB1IIuDUHa-E"
      },
      "source": [
        "faq_button.click()"
      ],
      "execution_count": 19,
      "outputs": []
    },
    {
      "cell_type": "code",
      "metadata": {
        "id": "7frS7fR6Ha-I",
        "outputId": "1b0bdeab-f7da-4628-9e2a-2c3ec6af4f8a",
        "colab": {
          "base_uri": "https://localhost:8080/",
          "height": 36
        }
      },
      "source": [
        "faq_button.get_attribute('class')"
      ],
      "execution_count": 20,
      "outputs": [
        {
          "output_type": "execute_result",
          "data": {
            "application/vnd.google.colaboratory.intrinsic+json": {
              "type": "string"
            },
            "text/plain": [
              "'faq__button'"
            ]
          },
          "metadata": {
            "tags": []
          },
          "execution_count": 20
        }
      ]
    },
    {
      "cell_type": "code",
      "metadata": {
        "scrolled": true,
        "id": "4nRxgz70Ha-N",
        "outputId": "68a51ed9-f248-418b-8501-4a7fbc640d4e",
        "colab": {
          "base_uri": "https://localhost:8080/"
        }
      },
      "source": [
        "[a.get_attribute('href') for a in a_tags]"
      ],
      "execution_count": 21,
      "outputs": [
        {
          "output_type": "execute_result",
          "data": {
            "text/plain": [
              "['https://duckduckgo.com/#',\n",
              " 'https://duckduckgo.com/app',\n",
              " 'https://duckduckgo.com/app',\n",
              " 'https://duckduckgo.com/newsletter',\n",
              " 'https://duckduckgo.com/newsletter',\n",
              " 'https://spreadprivacy.com/tag/device-privacy-tips/',\n",
              " 'https://spreadprivacy.com/tag/device-privacy-tips/',\n",
              " 'https://duckduckgo.com/spread',\n",
              " 'https://duckduckgo.com/spread',\n",
              " 'https://duckduckgo.com/donations',\n",
              " 'https://duckduckgo.com/donations',\n",
              " 'https://duckduckgo.com/traffic',\n",
              " 'https://duckduckgo.com/traffic',\n",
              " 'https://donttrack.us/',\n",
              " 'https://donttrack.us/',\n",
              " 'https://twitter.com/duckduckgo',\n",
              " 'https://reddit.com/r/duckduckgo',\n",
              " 'https://spreadprivacy.com/',\n",
              " 'https://duckduckgo.com/newsletter',\n",
              " 'https://duckduckgo.com/about',\n",
              " 'https://duckduckgo.com/bang',\n",
              " 'https://duckduckgo.com/spread',\n",
              " 'https://duckduckgo.com/install?t=h_',\n",
              " 'https://chrome.google.com/webstore/detail/bkdgflcldnnnapblkhphbgpggdiikppg/reviews',\n",
              " 'https://duckduckgo.com/app',\n",
              " 'https://duckduckgo.com/app',\n",
              " 'https://duckduckgo.com/settings#theme',\n",
              " 'https://duckduckgo.com/settings',\n",
              " 'https://duckduckgo.com/bangs',\n",
              " 'https://duckduckgo.com/',\n",
              " 'https://duckduckgo.com/app',\n",
              " 'https://spreadprivacy.com/',\n",
              " 'https://duckduckgo.com/newsletter',\n",
              " 'https://duckduckgo.com/spread',\n",
              " 'https://duckduckgo.com/about',\n",
              " 'https://duckduckgo.com/privacy',\n",
              " 'https://duckduckgo.com/hiring',\n",
              " 'https://duckduckgo.com/press',\n",
              " 'https://twitter.com/duckduckgo',\n",
              " 'https://duckduckgo.merchmadeeasy.com/',\n",
              " 'https://reddit.com/r/duckduckgo',\n",
              " 'https://help.duckduckgo.com/',\n",
              " None,\n",
              " 'https://duckduckgo.com/install?t=h_',\n",
              " 'https://duckduckgo.com/install?t=h_',\n",
              " 'https://duckduckgo.com/install?t=h_',\n",
              " 'https://duckduckgo.com/install?t=h_',\n",
              " 'https://twitter.com/?status=DuckDuckGo%20is%20my%20search%20engine%20of%20choice.%20%23ComeToTheDuckSide%20-%20we%20have%20privacy.%20https%3A%2F%2Fduckduckgo.com%2F%231',\n",
              " 'https://spreadprivacy.com/duckduckgo-revenue-model/',\n",
              " 'https://spreadprivacy.com/what-does-google-know-about-me/',\n",
              " 'https://duckduckgo.com/app',\n",
              " 'https://spreadprivacy.com/why-use-duckduckgo-instead-of-google/',\n",
              " 'https://duckduckgo.com/bang',\n",
              " 'https://spreadprivacy.com/is-duckduckgo-a-good-search-engine/',\n",
              " 'https://spreadprivacy.com/how-anonymous-is-duckduckgo/',\n",
              " 'https://duckduckgo.com/traffic',\n",
              " 'https://spreadprivacy.com/how-many-people-use-duckduckgo/',\n",
              " 'https://spreadprivacy.com/how-does-the-duckduckgo-app-extension-protect-my-privacy/',\n",
              " 'https://duckduckgo.com/install?t=h_']"
            ]
          },
          "metadata": {
            "tags": []
          },
          "execution_count": 21
        }
      ]
    },
    {
      "cell_type": "code",
      "metadata": {
        "id": "uijbWUktIp9a",
        "outputId": "7abb355e-862b-40a4-8253-a31ddd3daf23",
        "colab": {
          "base_uri": "https://localhost:8080/"
        }
      },
      "source": [
        "! pip install composable"
      ],
      "execution_count": 22,
      "outputs": [
        {
          "output_type": "stream",
          "text": [
            "Collecting composable\n",
            "  Downloading https://files.pythonhosted.org/packages/16/c0/c4de24bae8543d2f313783e98f3d6c92fc3393db2719d28a219c3ce2fbf9/composable-0.2.5-py3-none-any.whl\n",
            "Collecting python-forge<19.0,>=18.6\n",
            "  Downloading https://files.pythonhosted.org/packages/41/d6/e9af8e22d153ebbf584833c1c96d590046f522ae2a86978d4efe496b4aac/python_forge-18.6.0-py35-none-any.whl\n",
            "Requirement already satisfied: toolz<0.12.0,>=0.11.1 in /usr/local/lib/python3.6/dist-packages (from composable) (0.11.1)\n",
            "Installing collected packages: python-forge, composable\n",
            "Successfully installed composable-0.2.5 python-forge-18.6.0\n"
          ],
          "name": "stdout"
        }
      ]
    },
    {
      "cell_type": "code",
      "metadata": {
        "scrolled": true,
        "id": "81L4UC28Ha-Q",
        "outputId": "8060c2a0-29cc-4be3-973e-5f6d81c99bcd",
        "colab": {
          "base_uri": "https://localhost:8080/",
          "height": 36
        }
      },
      "source": [
        "from composable import pipeable\n",
        "get_attribute = pipeable(lambda attr, tag: tag.get_attribute(attr))\n",
        "\n",
        "(p\n",
        ">> get_attribute('class')\n",
        ")"
      ],
      "execution_count": 23,
      "outputs": [
        {
          "output_type": "execute_result",
          "data": {
            "application/vnd.google.colaboratory.intrinsic+json": {
              "type": "string"
            },
            "text/plain": [
              "'showcase__subheading'"
            ]
          },
          "metadata": {
            "tags": []
          },
          "execution_count": 23
        }
      ]
    },
    {
      "cell_type": "code",
      "metadata": {
        "scrolled": true,
        "id": "jRjVgPAiHa-U",
        "outputId": "5d09d8ff-81cd-473a-9145-a0b565a79568",
        "colab": {
          "base_uri": "https://localhost:8080/"
        }
      },
      "source": [
        "from composable.strict import map\n",
        "\n",
        "(a_tags\n",
        ">> map(get_attribute('href'))\n",
        ")"
      ],
      "execution_count": 24,
      "outputs": [
        {
          "output_type": "execute_result",
          "data": {
            "text/plain": [
              "['https://duckduckgo.com/#',\n",
              " 'https://duckduckgo.com/app',\n",
              " 'https://duckduckgo.com/app',\n",
              " 'https://duckduckgo.com/newsletter',\n",
              " 'https://duckduckgo.com/newsletter',\n",
              " 'https://spreadprivacy.com/tag/device-privacy-tips/',\n",
              " 'https://spreadprivacy.com/tag/device-privacy-tips/',\n",
              " 'https://duckduckgo.com/spread',\n",
              " 'https://duckduckgo.com/spread',\n",
              " 'https://duckduckgo.com/donations',\n",
              " 'https://duckduckgo.com/donations',\n",
              " 'https://duckduckgo.com/traffic',\n",
              " 'https://duckduckgo.com/traffic',\n",
              " 'https://donttrack.us/',\n",
              " 'https://donttrack.us/',\n",
              " 'https://twitter.com/duckduckgo',\n",
              " 'https://reddit.com/r/duckduckgo',\n",
              " 'https://spreadprivacy.com/',\n",
              " 'https://duckduckgo.com/newsletter',\n",
              " 'https://duckduckgo.com/about',\n",
              " 'https://duckduckgo.com/bang',\n",
              " 'https://duckduckgo.com/spread',\n",
              " 'https://duckduckgo.com/install?t=h_',\n",
              " 'https://chrome.google.com/webstore/detail/bkdgflcldnnnapblkhphbgpggdiikppg/reviews',\n",
              " 'https://duckduckgo.com/app',\n",
              " 'https://duckduckgo.com/app',\n",
              " 'https://duckduckgo.com/settings#theme',\n",
              " 'https://duckduckgo.com/settings',\n",
              " 'https://duckduckgo.com/bangs',\n",
              " 'https://duckduckgo.com/',\n",
              " 'https://duckduckgo.com/app',\n",
              " 'https://spreadprivacy.com/',\n",
              " 'https://duckduckgo.com/newsletter',\n",
              " 'https://duckduckgo.com/spread',\n",
              " 'https://duckduckgo.com/about',\n",
              " 'https://duckduckgo.com/privacy',\n",
              " 'https://duckduckgo.com/hiring',\n",
              " 'https://duckduckgo.com/press',\n",
              " 'https://twitter.com/duckduckgo',\n",
              " 'https://duckduckgo.merchmadeeasy.com/',\n",
              " 'https://reddit.com/r/duckduckgo',\n",
              " 'https://help.duckduckgo.com/',\n",
              " None,\n",
              " 'https://duckduckgo.com/install?t=h_',\n",
              " 'https://duckduckgo.com/install?t=h_',\n",
              " 'https://duckduckgo.com/install?t=h_',\n",
              " 'https://duckduckgo.com/install?t=h_',\n",
              " 'https://twitter.com/?status=DuckDuckGo%20is%20my%20search%20engine%20of%20choice.%20%23ComeToTheDuckSide%20-%20we%20have%20privacy.%20https%3A%2F%2Fduckduckgo.com%2F%231',\n",
              " 'https://spreadprivacy.com/duckduckgo-revenue-model/',\n",
              " 'https://spreadprivacy.com/what-does-google-know-about-me/',\n",
              " 'https://duckduckgo.com/app',\n",
              " 'https://spreadprivacy.com/why-use-duckduckgo-instead-of-google/',\n",
              " 'https://duckduckgo.com/bang',\n",
              " 'https://spreadprivacy.com/is-duckduckgo-a-good-search-engine/',\n",
              " 'https://spreadprivacy.com/how-anonymous-is-duckduckgo/',\n",
              " 'https://duckduckgo.com/traffic',\n",
              " 'https://spreadprivacy.com/how-many-people-use-duckduckgo/',\n",
              " 'https://spreadprivacy.com/how-does-the-duckduckgo-app-extension-protect-my-privacy/',\n",
              " 'https://duckduckgo.com/install?t=h_']"
            ]
          },
          "metadata": {
            "tags": []
          },
          "execution_count": 24
        }
      ]
    },
    {
      "cell_type": "markdown",
      "metadata": {
        "id": "MUigsjP8Ha-Y"
      },
      "source": [
        "## Anatomy of a Search\n",
        "\n",
        "<img src=\"https://github.com/wsu-DSCI330/module_5_lectures/blob/main/img/duckduck_search.png?raw=1\" width=\"400\"/>"
      ]
    },
    {
      "cell_type": "code",
      "metadata": {
        "id": "3UZ7BVQyHa-Y"
      },
      "source": [
        "input_field = driver.find_element_by_id('search_form_input_homepage')\n",
        "input_button = driver.find_element_by_id('search_button_homepage')"
      ],
      "execution_count": 25,
      "outputs": []
    },
    {
      "cell_type": "code",
      "metadata": {
        "id": "V1nLR9RNHa-b"
      },
      "source": [
        "input_field.send_keys('Silas Bergen')"
      ],
      "execution_count": 26,
      "outputs": []
    },
    {
      "cell_type": "code",
      "metadata": {
        "id": "46LB2-mZHa-h"
      },
      "source": [
        "input_button.click()"
      ],
      "execution_count": 27,
      "outputs": []
    },
    {
      "cell_type": "markdown",
      "metadata": {
        "id": "K8chpDGwHa-l"
      },
      "source": [
        "## IMPORTANT -- The page will change!"
      ]
    },
    {
      "cell_type": "code",
      "metadata": {
        "scrolled": true,
        "id": "4I6upTQJHa-m",
        "outputId": "5700770a-5a4b-4553-b403-152fd69f43f3",
        "colab": {
          "base_uri": "https://localhost:8080/",
          "height": 340
        }
      },
      "source": [
        "input_field = driver.find_element_by_id('search_form_input_homepage')"
      ],
      "execution_count": 28,
      "outputs": [
        {
          "output_type": "error",
          "ename": "NoSuchElementException",
          "evalue": "ignored",
          "traceback": [
            "\u001b[0;31m---------------------------------------------------------------------------\u001b[0m",
            "\u001b[0;31mNoSuchElementException\u001b[0m                    Traceback (most recent call last)",
            "\u001b[0;32m<ipython-input-28-57b08a652148>\u001b[0m in \u001b[0;36m<module>\u001b[0;34m()\u001b[0m\n\u001b[0;32m----> 1\u001b[0;31m \u001b[0minput_field\u001b[0m \u001b[0;34m=\u001b[0m \u001b[0mdriver\u001b[0m\u001b[0;34m.\u001b[0m\u001b[0mfind_element_by_id\u001b[0m\u001b[0;34m(\u001b[0m\u001b[0;34m'search_form_input_homepage'\u001b[0m\u001b[0;34m)\u001b[0m\u001b[0;34m\u001b[0m\u001b[0;34m\u001b[0m\u001b[0m\n\u001b[0m",
            "\u001b[0;32m/usr/local/lib/python3.6/dist-packages/selenium/webdriver/remote/webdriver.py\u001b[0m in \u001b[0;36mfind_element_by_id\u001b[0;34m(self, id_)\u001b[0m\n\u001b[1;32m    358\u001b[0m             \u001b[0melement\u001b[0m \u001b[0;34m=\u001b[0m \u001b[0mdriver\u001b[0m\u001b[0;34m.\u001b[0m\u001b[0mfind_element_by_id\u001b[0m\u001b[0;34m(\u001b[0m\u001b[0;34m'foo'\u001b[0m\u001b[0;34m)\u001b[0m\u001b[0;34m\u001b[0m\u001b[0;34m\u001b[0m\u001b[0m\n\u001b[1;32m    359\u001b[0m         \"\"\"\n\u001b[0;32m--> 360\u001b[0;31m         \u001b[0;32mreturn\u001b[0m \u001b[0mself\u001b[0m\u001b[0;34m.\u001b[0m\u001b[0mfind_element\u001b[0m\u001b[0;34m(\u001b[0m\u001b[0mby\u001b[0m\u001b[0;34m=\u001b[0m\u001b[0mBy\u001b[0m\u001b[0;34m.\u001b[0m\u001b[0mID\u001b[0m\u001b[0;34m,\u001b[0m \u001b[0mvalue\u001b[0m\u001b[0;34m=\u001b[0m\u001b[0mid_\u001b[0m\u001b[0;34m)\u001b[0m\u001b[0;34m\u001b[0m\u001b[0;34m\u001b[0m\u001b[0m\n\u001b[0m\u001b[1;32m    361\u001b[0m \u001b[0;34m\u001b[0m\u001b[0m\n\u001b[1;32m    362\u001b[0m     \u001b[0;32mdef\u001b[0m \u001b[0mfind_elements_by_id\u001b[0m\u001b[0;34m(\u001b[0m\u001b[0mself\u001b[0m\u001b[0;34m,\u001b[0m \u001b[0mid_\u001b[0m\u001b[0;34m)\u001b[0m\u001b[0;34m:\u001b[0m\u001b[0;34m\u001b[0m\u001b[0;34m\u001b[0m\u001b[0m\n",
            "\u001b[0;32m/usr/local/lib/python3.6/dist-packages/selenium/webdriver/remote/webdriver.py\u001b[0m in \u001b[0;36mfind_element\u001b[0;34m(self, by, value)\u001b[0m\n\u001b[1;32m    976\u001b[0m         return self.execute(Command.FIND_ELEMENT, {\n\u001b[1;32m    977\u001b[0m             \u001b[0;34m'using'\u001b[0m\u001b[0;34m:\u001b[0m \u001b[0mby\u001b[0m\u001b[0;34m,\u001b[0m\u001b[0;34m\u001b[0m\u001b[0;34m\u001b[0m\u001b[0m\n\u001b[0;32m--> 978\u001b[0;31m             'value': value})['value']\n\u001b[0m\u001b[1;32m    979\u001b[0m \u001b[0;34m\u001b[0m\u001b[0m\n\u001b[1;32m    980\u001b[0m     \u001b[0;32mdef\u001b[0m \u001b[0mfind_elements\u001b[0m\u001b[0;34m(\u001b[0m\u001b[0mself\u001b[0m\u001b[0;34m,\u001b[0m \u001b[0mby\u001b[0m\u001b[0;34m=\u001b[0m\u001b[0mBy\u001b[0m\u001b[0;34m.\u001b[0m\u001b[0mID\u001b[0m\u001b[0;34m,\u001b[0m \u001b[0mvalue\u001b[0m\u001b[0;34m=\u001b[0m\u001b[0;32mNone\u001b[0m\u001b[0;34m)\u001b[0m\u001b[0;34m:\u001b[0m\u001b[0;34m\u001b[0m\u001b[0;34m\u001b[0m\u001b[0m\n",
            "\u001b[0;32m/usr/local/lib/python3.6/dist-packages/selenium/webdriver/remote/webdriver.py\u001b[0m in \u001b[0;36mexecute\u001b[0;34m(self, driver_command, params)\u001b[0m\n\u001b[1;32m    319\u001b[0m         \u001b[0mresponse\u001b[0m \u001b[0;34m=\u001b[0m \u001b[0mself\u001b[0m\u001b[0;34m.\u001b[0m\u001b[0mcommand_executor\u001b[0m\u001b[0;34m.\u001b[0m\u001b[0mexecute\u001b[0m\u001b[0;34m(\u001b[0m\u001b[0mdriver_command\u001b[0m\u001b[0;34m,\u001b[0m \u001b[0mparams\u001b[0m\u001b[0;34m)\u001b[0m\u001b[0;34m\u001b[0m\u001b[0;34m\u001b[0m\u001b[0m\n\u001b[1;32m    320\u001b[0m         \u001b[0;32mif\u001b[0m \u001b[0mresponse\u001b[0m\u001b[0;34m:\u001b[0m\u001b[0;34m\u001b[0m\u001b[0;34m\u001b[0m\u001b[0m\n\u001b[0;32m--> 321\u001b[0;31m             \u001b[0mself\u001b[0m\u001b[0;34m.\u001b[0m\u001b[0merror_handler\u001b[0m\u001b[0;34m.\u001b[0m\u001b[0mcheck_response\u001b[0m\u001b[0;34m(\u001b[0m\u001b[0mresponse\u001b[0m\u001b[0;34m)\u001b[0m\u001b[0;34m\u001b[0m\u001b[0;34m\u001b[0m\u001b[0m\n\u001b[0m\u001b[1;32m    322\u001b[0m             response['value'] = self._unwrap_value(\n\u001b[1;32m    323\u001b[0m                 response.get('value', None))\n",
            "\u001b[0;32m/usr/local/lib/python3.6/dist-packages/selenium/webdriver/remote/errorhandler.py\u001b[0m in \u001b[0;36mcheck_response\u001b[0;34m(self, response)\u001b[0m\n\u001b[1;32m    240\u001b[0m                 \u001b[0malert_text\u001b[0m \u001b[0;34m=\u001b[0m \u001b[0mvalue\u001b[0m\u001b[0;34m[\u001b[0m\u001b[0;34m'alert'\u001b[0m\u001b[0;34m]\u001b[0m\u001b[0;34m.\u001b[0m\u001b[0mget\u001b[0m\u001b[0;34m(\u001b[0m\u001b[0;34m'text'\u001b[0m\u001b[0;34m)\u001b[0m\u001b[0;34m\u001b[0m\u001b[0;34m\u001b[0m\u001b[0m\n\u001b[1;32m    241\u001b[0m             \u001b[0;32mraise\u001b[0m \u001b[0mexception_class\u001b[0m\u001b[0;34m(\u001b[0m\u001b[0mmessage\u001b[0m\u001b[0;34m,\u001b[0m \u001b[0mscreen\u001b[0m\u001b[0;34m,\u001b[0m \u001b[0mstacktrace\u001b[0m\u001b[0;34m,\u001b[0m \u001b[0malert_text\u001b[0m\u001b[0;34m)\u001b[0m\u001b[0;34m\u001b[0m\u001b[0;34m\u001b[0m\u001b[0m\n\u001b[0;32m--> 242\u001b[0;31m         \u001b[0;32mraise\u001b[0m \u001b[0mexception_class\u001b[0m\u001b[0;34m(\u001b[0m\u001b[0mmessage\u001b[0m\u001b[0;34m,\u001b[0m \u001b[0mscreen\u001b[0m\u001b[0;34m,\u001b[0m \u001b[0mstacktrace\u001b[0m\u001b[0;34m)\u001b[0m\u001b[0;34m\u001b[0m\u001b[0;34m\u001b[0m\u001b[0m\n\u001b[0m\u001b[1;32m    243\u001b[0m \u001b[0;34m\u001b[0m\u001b[0m\n\u001b[1;32m    244\u001b[0m     \u001b[0;32mdef\u001b[0m \u001b[0m_value_or_default\u001b[0m\u001b[0;34m(\u001b[0m\u001b[0mself\u001b[0m\u001b[0;34m,\u001b[0m \u001b[0mobj\u001b[0m\u001b[0;34m,\u001b[0m \u001b[0mkey\u001b[0m\u001b[0;34m,\u001b[0m \u001b[0mdefault\u001b[0m\u001b[0;34m)\u001b[0m\u001b[0;34m:\u001b[0m\u001b[0;34m\u001b[0m\u001b[0;34m\u001b[0m\u001b[0m\n",
            "\u001b[0;31mNoSuchElementException\u001b[0m: Message: no such element: Unable to locate element: {\"method\":\"css selector\",\"selector\":\"[id=\"search_form_input_homepage\"]\"}\n  (Session info: headless chrome=86.0.4240.75)\n"
          ]
        }
      ]
    },
    {
      "cell_type": "markdown",
      "metadata": {
        "id": "QywuLnI2Ha-q"
      },
      "source": [
        "## <font color=\"red\"> Exercise 2 </font> \n",
        "\n",
        "Use `selenium` to get the links for all of the results shown on the page."
      ]
    },
    {
      "cell_type": "code",
      "metadata": {
        "id": "9YgL2ugLHa-q",
        "outputId": "92791910-e430-4f3e-8263-907792224475",
        "colab": {
          "base_uri": "https://localhost:8080/"
        }
      },
      "source": [
        "find_elements_by_class_name = pipeable(lambda class_name, driver: driver.find_elements_by_class_name(class_name))\n",
        "find_element_by_tag_name = pipeable(lambda tag_name, driver: driver.find_element_by_tag_name(tag_name))\n",
        "\n",
        "(driver\n",
        " >> find_elements_by_class_name(\"results_links_deep\")\n",
        " >> map(find_element_by_tag_name('a'))\n",
        " >> map(get_attribute('href'))\n",
        ")"
      ],
      "execution_count": 33,
      "outputs": [
        {
          "output_type": "execute_result",
          "data": {
            "text/plain": [
              "['http://driftlessdata.space/',\n",
              " 'https://www.facebook.com/silas.bergen.5',\n",
              " 'https://www.pubfacts.com/author/Silas+Bergen',\n",
              " 'https://www.semanticscholar.org/author/Silas-Bergen/48578284',\n",
              " 'https://www.instagram.com/silasbjerregaard/?hl=en',\n",
              " 'https://www.goodreads.com/user/show/55807579-silas-bergen',\n",
              " 'https://en.visitbergen.com/visitor-information/travel-information/skyss-bus-and-bergen-light-rail-p913973',\n",
              " 'https://github.com/SilasBerger',\n",
              " 'https://vimeo.com/21306075',\n",
              " 'https://www.imdb.com/title/tt0081929/']"
            ]
          },
          "metadata": {
            "tags": []
          },
          "execution_count": 33
        }
      ]
    },
    {
      "cell_type": "markdown",
      "metadata": {
        "id": "aDpoD_46Ha-t"
      },
      "source": [
        "## <font color=\"red\"> Exercise 3 </font> \n",
        "\n",
        "Suppose that we want more than 1 page of results.  Inspect the page and find the more button. **Hint:** Right click won't work here, you will need to inspect a nearby element then navigate to the element in the console.\n",
        "\n",
        "Once you have found this button, click it at least three times, then get all of search result links."
      ]
    },
    {
      "cell_type": "code",
      "metadata": {
        "id": "g-9_S2mZHa-v"
      },
      "source": [
        "driver.find_element_by_class_name('result--more__btn').click()"
      ],
      "execution_count": 34,
      "outputs": []
    },
    {
      "cell_type": "code",
      "metadata": {
        "id": "D7neJnTkLCqS"
      },
      "source": [
        "driver.find_element_by_class_name('result--more__btn').click()"
      ],
      "execution_count": 35,
      "outputs": []
    },
    {
      "cell_type": "code",
      "metadata": {
        "id": "ZNxaq4_FLFgG"
      },
      "source": [
        "driver.find_element_by_class_name('result--more__btn').click()"
      ],
      "execution_count": 36,
      "outputs": []
    },
    {
      "cell_type": "code",
      "metadata": {
        "id": "-1-XMSfnLF5v",
        "outputId": "0e6755cc-d5b4-4473-840b-dd550790337d",
        "colab": {
          "base_uri": "https://localhost:8080/"
        }
      },
      "source": [
        "(driver\n",
        " >> find_elements_by_class_name(\"results_links_deep\")\n",
        " >> map(find_element_by_tag_name('a'))\n",
        " >> map(get_attribute('href'))\n",
        ")"
      ],
      "execution_count": 37,
      "outputs": [
        {
          "output_type": "execute_result",
          "data": {
            "text/plain": [
              "['http://driftlessdata.space/',\n",
              " 'https://www.facebook.com/silas.bergen.5',\n",
              " 'https://www.pubfacts.com/author/Silas+Bergen',\n",
              " 'https://www.semanticscholar.org/author/Silas-Bergen/48578284',\n",
              " 'https://www.instagram.com/silasbjerregaard/?hl=en',\n",
              " 'https://www.goodreads.com/user/show/55807579-silas-bergen',\n",
              " 'https://en.visitbergen.com/visitor-information/travel-information/skyss-bus-and-bergen-light-rail-p913973',\n",
              " 'https://github.com/SilasBerger',\n",
              " 'https://vimeo.com/21306075',\n",
              " 'https://www.imdb.com/title/tt0081929/',\n",
              " 'https://en.wikipedia.org/wiki/Silas_Young',\n",
              " 'https://highlander.fandom.com/wiki/Silas',\n",
              " 'https://www.bt.dk/krimi/grotesk-forloeb-i-voldssag-lang-ventetid-gav-rabat-til-silas-lunds-voldsmand',\n",
              " 'https://www.silasdeanepawn.com/',\n",
              " 'https://www.booking.com/hotel/no/lyder-sagens-apartment.en-gb.html',\n",
              " 'https://www.bergen.io/',\n",
              " 'https://www.sats.no/treningssentre/bergen/bergen-sats/',\n",
              " 'https://feheroes.gamepedia.com/Silas:_Loyal_Knight',\n",
              " 'https://www.tripadvisor.de/Tourism-g190502-Bergen_Hordaland_Western_Norway-Vacations.html',\n",
              " 'https://www.verbformen.de/konjugation/bergen.htm',\n",
              " 'https://www.pexels.com/sv-se/sok/bergen/',\n",
              " 'https://www.marinetraffic.com/ru/ais/details/ships/shipid:309580/mmsi:257951000/imo:9140944/vessel:SILVER_BERGEN',\n",
              " 'https://www.transfermarkt.com/silas-songani/profil/spieler/264299',\n",
              " 'http://driftlessdata.space/',\n",
              " 'https://www.facebook.com/silas.bergen.5',\n",
              " 'https://www.pubfacts.com/author/Silas+Bergen',\n",
              " 'https://www.semanticscholar.org/author/Silas-Bergen/48578284',\n",
              " 'https://www.instagram.com/silasbjerregaard/?hl=en',\n",
              " 'https://www.goodreads.com/user/show/55807579-silas-bergen',\n",
              " 'https://en.visitbergen.com/visitor-information/travel-information/skyss-bus-and-bergen-light-rail-p913973',\n",
              " 'https://github.com/SilasBerger',\n",
              " 'https://www.lilsebergen.be/',\n",
              " 'https://vimeo.com/21306075',\n",
              " 'https://en.wikipedia.org/wiki/Silas_Young',\n",
              " 'https://www.imdb.com/title/tt0081929/',\n",
              " 'https://highlander.fandom.com/wiki/Silas',\n",
              " 'https://www.hurriyet.com.tr/gundem/sarkici-bergeni-olduren-esi-konustu-27382346',\n",
              " 'https://www.bt.dk/krimi/grotesk-forloeb-i-voldssag-lang-ventetid-gav-rabat-til-silas-lunds-voldsmand',\n",
              " 'https://www.marinetraffic.com/en/ais/details/ships/shipid:309580/mmsi:257951000/imo:9140944/vessel:SILVER_BERGEN',\n",
              " 'https://www.silasdeanepawn.com/',\n",
              " 'https://www.sats.no/treningssentre/bergen/bergen-sats/',\n",
              " 'https://feheroes.gamepedia.com/Silas:_Loyal_Knight',\n",
              " 'https://www.tripadvisor.de/Tourism-g190502-Bergen_Hordaland_Western_Norway-Vacations.html',\n",
              " 'https://www.radyonefes.net/bergen/',\n",
              " 'https://www.verbformen.de/konjugation/bergen.htm',\n",
              " 'https://www.transfermarkt.com/silas-songani/profil/spieler/264299',\n",
              " 'https://www.wowhead.com/item=156634/silas-vial-of-continuous-curing',\n",
              " 'https://www.rome2rio.com/s/Bergen/%C3%85lesund',\n",
              " 'https://de.wikipedia.org/wiki/Bergensbanen',\n",
              " 'https://www.yr.no/sted/Norge/Vestland/Bergen/',\n",
              " 'https://www.dict.cc/?s=bergen',\n",
              " 'https://www.sammen.no/no/bergen/bolig',\n",
              " 'https://www.lastminute.com/flights/bergen',\n",
              " 'https://www.rubrikk.no/leilighet-bolig-til-leie/bergen--leilighet',\n",
              " 'https://bergen-belsen.stiftung-ng.de/',\n",
              " 'https://www.edreams.es/vuelos/bergen/BGO/',\n",
              " 'https://www.booking.com/hotel/nl/echt-slapen.en-gb.html',\n",
              " 'https://bergen.edu/',\n",
              " 'https://www.silvan.dk/plus-bergen-hegn-med-espalier-trykimpraegneret-165-cm-90-cm?id=5700-1252391',\n",
              " 'http://www.bergen-group.no/',\n",
              " 'https://www.bergen.io/',\n",
              " 'https://www.tripadvisor.com/ShowTopic-g190504-i4248-k5469915-Alesund_to_Bergen-Alesund_More_og_Romsdal_Western_Norway.html',\n",
              " 'https://avinor.no/flyplass/bergen/',\n",
              " 'https://www.engelberg.ch/en/',\n",
              " 'http://bergen.it/',\n",
              " 'https://www.izlesene.com/muzik/bergen',\n",
              " 'https://www.kristiania.no/studere-hos-oss/bergen/',\n",
              " 'http://www.duralbridge.com/bergen.htm',\n",
              " 'https://www.bergen.kommune.no/',\n",
              " 'https://en.wiktionary.org/wiki/bergen',\n",
              " 'https://www.jula.no/vare-varehus/bergen-fyllingsdalen/',\n",
              " 'https://www.airport-bergen.com/',\n",
              " 'https://www.pexels.com/sv-se/sok/bergen/',\n",
              " 'https://www.norskflid.no/bergen/',\n",
              " 'https://commons.wikimedia.org/wiki/Bergen',\n",
              " 'https://www.norled.no/kart-og-rutetider/hurtigbat/sogn-og-fjordane/',\n",
              " 'https://www.strassenverkehrsamt.de/lokal/ruegen-landkreis/kfz-zulassungsstelle',\n",
              " 'https://www.bergen-guide.com/274.htm',\n",
              " 'https://www.behance.net/silasJ',\n",
              " 'https://lingu.no/locations/bergen',\n",
              " 'https://www.volvat.no/lokasjoner/bergen/tjenester/gynekologi/',\n",
              " 'https://www.geni.com/people/Silas-Ransberger/6000000032220140853',\n",
              " 'https://stars365.livejournal.com/tag/',\n",
              " 'https://bergenlinen.com/',\n",
              " 'https://www.bergeninc.com/',\n",
              " 'https://ok.ru/video/7817333473',\n",
              " 'https://gezimanya.com/bergen',\n",
              " 'https://www.biltema.no/varehus/bergen-asane/',\n",
              " 'https://sermons4kids.com/paul_silas_ochsner.htm',\n",
              " 'https://rail.cc/en/train/bergen-to-flam',\n",
              " 'https://www.crunchbase.com/person/silas-hundt',\n",
              " 'http://www.bergenbags.com/',\n",
              " 'https://bergensales.com/',\n",
              " 'https://www.mixcloud.com/silas-imboden/',\n",
              " 'https://www.linkedin.com/in/silas-nuernberger-61ab91174',\n",
              " 'http://dwellbergen.no/',\n",
              " 'https://archive.org/details/SilasLeachman',\n",
              " 'https://www.flybussen.no/ruter/bergen',\n",
              " 'http://bricoyunu.blogspot.com/2012/05/bergen-konvansiyonu.html',\n",
              " 'https://www.spigotmc.org/members/silas1silas.460350/',\n",
              " 'https://www.lifeinnorway.net/bergen-railway-trip/',\n",
              " 'https://www.anticimex.com/nb-no/kontakt/bergen/',\n",
              " 'https://www.edreams.com/flights/oslo-bergen/OSL/BGO/',\n",
              " 'https://www.internethaber.com/bergeni-olduren-kocasi-simdi-ne-yapiyor-iste-son-hali-foto-galerisi-1838973.htm',\n",
              " 'https://encyclopediaofarkansas.net/entries/silas-herbert-hunt-1676/',\n",
              " 'https://www.superhaber.tv/bergeni-olduren-kocasi-halis-serbest-kimdir-haber-104598',\n",
              " 'https://classicdb.ch/?npc=14823',\n",
              " 'https://www.bravofly.com/offers/flights/stavanger-bergen',\n",
              " 'https://www.fjordtours.com/de/aktivitaeten-in-norwegen/museen-und-sehenswuerdigkeiten-in-norwegen/bergen-standseilbahn-floyen/',\n",
              " 'https://www.surplusandoutdoors.com/shop/camping-equipment/rucksacks-bags.html',\n",
              " 'https://www.hearthpwn.com/decks/1366787-silas-darkmoon-otk',\n",
              " 'https://www.dw.com/de/kosovo-bio-honig-aus-den-bergen/av-55437810',\n",
              " 'https://www.torp.no/direkteruter/innland/bergen/',\n",
              " 'https://bergen2017.no/',\n",
              " 'https://www.thebatavian.com/bergen',\n",
              " 'https://www.bergensentrum.no/',\n",
              " 'https://www.fjordline.com/en/p/our-ferry-routes/bergen-stavanger-domestic',\n",
              " 'https://www.webcamtaxi.com/en/norway/hordaland/bergen-line.html',\n",
              " 'https://www.bergenfest.no/',\n",
              " 'https://www.expedia.com/Bergen-Hotels-Citybox-Bergen.h9766626.Hotel-Information',\n",
              " 'https://www.klingelnberg.com/',\n",
              " 'https://777score.ru/football/matches/fc-schalke-04-vfb-stuttgart-2020-10-31?blank=true',\n",
              " 'https://www.vy.no/en/traffic-and-routes/stations-and-network-maps/the-bergen-line',\n",
              " 'https://www.legelisten.no/tannleger/Vestland/Bergen',\n",
              " 'https://www.flygresor.se/norge/bergen',\n",
              " 'https://tengrinews.kz/kazakhstan_news/joldau-2020-tokaev-bergen-en-manyizdyi-tapsyirmalar-412864/',\n",
              " 'https://www.basketball-reference.com/gleague/players/s/silasxa01d.html',\n",
              " 'https://citybox.no/bergen-sentrum/',\n",
              " 'https://www.uol.com.br/',\n",
              " 'https://www.girlswithmuscle.com/images/?name=Ioana%20Anca%20Bergen',\n",
              " 'https://www.focus.de/perspektiven/gesellschaft-gestalten/gastbeitrag-virologen-im-fadenkreuz-fuer-mehr-vertrauen-in-die-wissenschaft-braucht-es-2-dinge_id_12616885.html',\n",
              " 'https://hybel.no/bolig-til-leie/bergen/']"
            ]
          },
          "metadata": {
            "tags": []
          },
          "execution_count": 37
        }
      ]
    },
    {
      "cell_type": "markdown",
      "metadata": {
        "id": "OiIZmB2mHa-y"
      },
      "source": [
        "## Headless operation\n",
        "\n",
        "While the extra window is useful for exploring results, it gets annoying when rerunning common searches.  In this case, we want to run the search in headless mode."
      ]
    },
    {
      "cell_type": "code",
      "metadata": {
        "id": "OvLKulKRHa-y",
        "outputId": "6b8cdf42-7bf3-4528-ca0f-fa0d460d0b48",
        "colab": {
          "base_uri": "https://localhost:8080/",
          "height": 243
        }
      },
      "source": [
        "from selenium import webdriver\n",
        "from selenium.webdriver.firefox.options import Options\n",
        "\n",
        "options = Options()\n",
        "options.headless = True\n",
        "options.add_argument(\"--window-size=1920,1200\")\n",
        "\n",
        "driver = webdriver.Firefox(options=options, executable_path=DRIVER_PATH)\n",
        "driver.get(\"https://www.nintendo.com/\")\n",
        "print(driver.page_source)\n",
        "driver.quit()"
      ],
      "execution_count": 46,
      "outputs": [
        {
          "output_type": "error",
          "ename": "NameError",
          "evalue": "ignored",
          "traceback": [
            "\u001b[0;31m---------------------------------------------------------------------------\u001b[0m",
            "\u001b[0;31mNameError\u001b[0m                                 Traceback (most recent call last)",
            "\u001b[0;32m<ipython-input-46-09d91b3f0182>\u001b[0m in \u001b[0;36m<module>\u001b[0;34m()\u001b[0m\n\u001b[1;32m      6\u001b[0m \u001b[0moptions\u001b[0m\u001b[0;34m.\u001b[0m\u001b[0madd_argument\u001b[0m\u001b[0;34m(\u001b[0m\u001b[0;34m\"--window-size=1920,1200\"\u001b[0m\u001b[0;34m)\u001b[0m\u001b[0;34m\u001b[0m\u001b[0;34m\u001b[0m\u001b[0m\n\u001b[1;32m      7\u001b[0m \u001b[0;34m\u001b[0m\u001b[0m\n\u001b[0;32m----> 8\u001b[0;31m \u001b[0mdriver\u001b[0m \u001b[0;34m=\u001b[0m \u001b[0mwebdriver\u001b[0m\u001b[0;34m.\u001b[0m\u001b[0mFirefox\u001b[0m\u001b[0;34m(\u001b[0m\u001b[0moptions\u001b[0m\u001b[0;34m=\u001b[0m\u001b[0moptions\u001b[0m\u001b[0;34m,\u001b[0m \u001b[0mexecutable_path\u001b[0m\u001b[0;34m=\u001b[0m\u001b[0mDRIVER_PATH\u001b[0m\u001b[0;34m)\u001b[0m\u001b[0;34m\u001b[0m\u001b[0;34m\u001b[0m\u001b[0m\n\u001b[0m\u001b[1;32m      9\u001b[0m \u001b[0mdriver\u001b[0m\u001b[0;34m.\u001b[0m\u001b[0mget\u001b[0m\u001b[0;34m(\u001b[0m\u001b[0;34m\"https://www.nintendo.com/\"\u001b[0m\u001b[0;34m)\u001b[0m\u001b[0;34m\u001b[0m\u001b[0;34m\u001b[0m\u001b[0m\n\u001b[1;32m     10\u001b[0m \u001b[0mprint\u001b[0m\u001b[0;34m(\u001b[0m\u001b[0mdriver\u001b[0m\u001b[0;34m.\u001b[0m\u001b[0mpage_source\u001b[0m\u001b[0;34m)\u001b[0m\u001b[0;34m\u001b[0m\u001b[0;34m\u001b[0m\u001b[0m\n",
            "\u001b[0;31mNameError\u001b[0m: name 'DRIVER_PATH' is not defined"
          ]
        }
      ]
    }
  ]
}